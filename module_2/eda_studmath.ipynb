{
 "cells": [
  {
   "cell_type": "markdown",
   "metadata": {},
   "source": [
    "Целью данного проекта является проведение разведывательного анализа для выявления влияния условий жизни учащихся в возрасте от 15 до 22 лет на их успеваемость по математике, чтобы на ранней стадии выявлять студентов, находящихся в группе риска.\n",
    "\n",
    "Для достижения этой цели нужно:\n",
    "1. очистить собранные данные от некорректных значений,\n",
    "2. отсеить выбросы для числовых данных, оставить только те, числовые переменные, которые не зависят друг от друга (низкая корреляция),\n",
    "3. для номинативных переменных оценить ститистическую значимость разницы оценок в зависимости от значений переменной\n"
   ]
  },
  {
   "cell_type": "code",
   "execution_count": 1,
   "metadata": {},
   "outputs": [],
   "source": [
    "import pandas as pd\n",
    "import matplotlib.pyplot as plt\n",
    "import seaborn as sns\n",
    "from itertools import combinations\n",
    "from scipy.stats import ttest_ind\n",
    "import numpy as np"
   ]
  },
  {
   "cell_type": "code",
   "execution_count": 2,
   "metadata": {},
   "outputs": [],
   "source": [
    "# загрузка данных\n",
    "studmath = pd.read_csv('/users/antonzubov/Documents/Projects/dscource/module_2/stud_math.xls')"
   ]
  },
  {
   "cell_type": "code",
   "execution_count": 3,
   "metadata": {},
   "outputs": [],
   "source": [
    "# переименовываем колонки\n",
    "studmath.columns = [x.replace(', ', '_').lower() for x in studmath.columns]"
   ]
  },
  {
   "cell_type": "code",
   "execution_count": 4,
   "metadata": {},
   "outputs": [
    {
     "name": "stdout",
     "output_type": "stream",
     "text": [
      "<class 'pandas.core.frame.DataFrame'>\n",
      "RangeIndex: 395 entries, 0 to 394\n",
      "Data columns (total 30 columns):\n",
      " #   Column              Non-Null Count  Dtype  \n",
      "---  ------              --------------  -----  \n",
      " 0   school              395 non-null    object \n",
      " 1   sex                 395 non-null    object \n",
      " 2   age                 395 non-null    int64  \n",
      " 3   address             378 non-null    object \n",
      " 4   famsize             368 non-null    object \n",
      " 5   pstatus             350 non-null    object \n",
      " 6   medu                392 non-null    float64\n",
      " 7   fedu                371 non-null    float64\n",
      " 8   mjob                376 non-null    object \n",
      " 9   fjob                359 non-null    object \n",
      " 10  reason              378 non-null    object \n",
      " 11  guardian            364 non-null    object \n",
      " 12  traveltime          367 non-null    float64\n",
      " 13  studytime           388 non-null    float64\n",
      " 14  failures            373 non-null    float64\n",
      " 15  schoolsup           386 non-null    object \n",
      " 16  famsup              356 non-null    object \n",
      " 17  paid                355 non-null    object \n",
      " 18  activities          381 non-null    object \n",
      " 19  nursery             379 non-null    object \n",
      " 20  studytime_granular  388 non-null    float64\n",
      " 21  higher              375 non-null    object \n",
      " 22  internet            361 non-null    object \n",
      " 23  romantic            364 non-null    object \n",
      " 24  famrel              368 non-null    float64\n",
      " 25  freetime            384 non-null    float64\n",
      " 26  goout               387 non-null    float64\n",
      " 27  health              380 non-null    float64\n",
      " 28  absences            383 non-null    float64\n",
      " 29  score               389 non-null    float64\n",
      "dtypes: float64(12), int64(1), object(17)\n",
      "memory usage: 92.7+ KB\n"
     ]
    }
   ],
   "source": [
    "# смотрим сводную информацию по данным\n",
    "studmath.info()"
   ]
  },
  {
   "cell_type": "markdown",
   "metadata": {},
   "source": [
    "Введем вспомогательные функции и переменные"
   ]
  },
  {
   "cell_type": "code",
   "execution_count": 5,
   "metadata": {},
   "outputs": [],
   "source": [
    "# функция выводит уникальные данные в колонке column для датафрейма df\n",
    "def showUniqueValues(df, column):\n",
    "    print(column)\n",
    "    display(df[column].unique())\n",
    "\n",
    "# функция заменяет пропущенные значения на None\n",
    "def replaceInvalidValuesWithNone(df, column):\n",
    "    df[column] = df[column].apply(lambda x: None if pd.isnull(x) else x)\n",
    "\n",
    "# функция заменяет недопустимые числовые значения в колонке column для датафрейма df\n",
    "# allowedValues содержит список допустимых значений.\n",
    "def replaceValuesOutOfRangeWithNone(df, column, allowedValues):\n",
    "    df[column] = df[column].apply(lambda x: x if x in allowedValues else None)\n",
    "\n",
    "# функция заменяет недопустимые строковые значения в колонке column для датафрейма df\n",
    "# allowedValues содержит список допустимых значений\n",
    "# все значения приводятся к нижнему регистру, тк регистр не несет смыслового значения\n",
    "# и можно скорректировать заполеннные данные если они не в том регистре, что заявлено в описании задания\n",
    "def replaceStrValuesOutOfRangeWithNone(df, column, allowedValues):\n",
    "    df[column] = df[column].apply(lambda x: None if pd.isnull(x) else x.lower() if x.lower() in allowedValues else None)\n",
    "\n",
    "# функция удаляет выбросы в числовой колонке column датафрейма df\n",
    "def removeOutliers(df, column):\n",
    "    df[column].plot(kind='box')\n",
    "    plt.title(column)\n",
    "    q25 = df[column].quantile(0.25)\n",
    "    q75 = df[column].quantile(0.75)\n",
    "    iqr = q75 - q25\n",
    "    lowmargin = q25 - 1.5*iqr\n",
    "    uppermargin = q75 + 1.5*iqr\n",
    "    df[column] = df[column].apply(lambda x: x if ((x >lowmargin) and (x<uppermargin)) else None)\n",
    "    \n",
    "# функция показывает частоту уникальных значений в колонке column датафрейма df\n",
    "def showDistribution(df, column):\n",
    "    print(\"Колонка \", column)\n",
    "    display(df[column].value_counts(dropna=True, normalize=True))\n",
    "    print(\"Количество уникальных значений\", len(df[column].unique()))\n",
    "    print(\"Количество пустых значений\", len(df[column])-df[column].count())\n",
    "    \n",
    "# функция для отображения распределения значений score для уникальных значений колонки column датафрейма df\n",
    "def get_boxplot(df, column):\n",
    "    fig, ax = plt.subplots(figsize = (14, 4))\n",
    "    sns.boxplot(x=column, y='score', \n",
    "                data=df.loc[df.loc[:, column].isin(df.loc[:, column].value_counts().index)],\n",
    "               ax=ax)\n",
    "    plt.xticks(rotation=45)\n",
    "    ax.set_title('Boxplot for ' + column)\n",
    "    plt.show()\n",
    "\n",
    "# функция проверки гипотезы, что значения score отличаются для уникальных значений колонки column датафрейма df\n",
    "# возвращает True если есть статистически значимое различие\n",
    "def get_stat_dif(df, column):\n",
    "    result = False\n",
    "    cols = df.loc[:, column].value_counts().index\n",
    "    combinations_all = list(combinations(cols, 2))\n",
    "    for comb in combinations_all:\n",
    "        if ttest_ind(df.loc[df.loc[:, column] == comb[0], 'score'], \n",
    "                        df.loc[df.loc[:, column] == comb[1], 'score']).pvalue \\\n",
    "            <= 0.05/len(combinations_all): # Учли поправку Бонферони\n",
    "            print('Найдены статистически значимые различия для колонки', column)\n",
    "            result = True\n",
    "            break\n",
    "    return result\n",
    "\n",
    "# вспомогательные списки числовых и номинативных колонок\n",
    "numColumns = ['age','medu','fedu','traveltime','studytime','failures','studytime_granular','famrel','freetime','goout','health']\n",
    "catColumns = ['school','sex','address','famsize','pstatus','mjob','fjob','reason','guardian','schoolsup','famsup','paid','activities','nursery','higher','internet','romantic']\n",
    "\n",
    "# инициализируем итоговый список колонок, которые будут использоваться в дальнейшем\n",
    "columnsToPreserve =['score']\n"
   ]
  },
  {
   "cell_type": "code",
   "execution_count": 6,
   "metadata": {},
   "outputs": [],
   "source": [
    "# предварительная зачистка данных\n",
    "for colName in studmath.columns:\n",
    "    replaceInvalidValuesWithNone(studmath, colName)\n",
    "\n",
    "# для всех номинативных колонок и колонок, содержащих номера категорий, выбрасываем значения,\n",
    "# которые не соответсвуют ожидаемым\n",
    "replaceStrValuesOutOfRangeWithNone(studmath, 'sex', ['m', 'f'])\n",
    "replaceValuesOutOfRangeWithNone(studmath, 'age', range(15,23))\n",
    "replaceStrValuesOutOfRangeWithNone(studmath, 'address', ['u','r'])\n",
    "replaceStrValuesOutOfRangeWithNone(studmath, 'famsize', ['le3', 'gt3'])\n",
    "replaceStrValuesOutOfRangeWithNone(studmath, 'pstatus', ['t','a'])\n",
    "replaceValuesOutOfRangeWithNone(studmath, 'medu', [0,1,2,3,4])\n",
    "replaceValuesOutOfRangeWithNone(studmath, 'fedu', [0,1,2,3,4])\n",
    "replaceStrValuesOutOfRangeWithNone(studmath, 'mjob', ['teacher', 'health', 'services', 'at_home', 'other'])\n",
    "replaceStrValuesOutOfRangeWithNone(studmath, 'fjob', ['teacher', 'health', 'services', 'at_home', 'other'])\n",
    "replaceStrValuesOutOfRangeWithNone(studmath, 'reason', ['home', 'reputation', 'cource', 'other'])\n",
    "replaceStrValuesOutOfRangeWithNone(studmath, 'guardian', ['mother', 'father', 'other'])\n",
    "replaceValuesOutOfRangeWithNone(studmath, 'traveltime', [1,2,3,4])\n",
    "replaceValuesOutOfRangeWithNone(studmath, 'studytime', [1,2,3,4])\n",
    "replaceValuesOutOfRangeWithNone(studmath, 'failures', [0,1,2,3])\n",
    "replaceStrValuesOutOfRangeWithNone(studmath, 'schoolsup', ['yes', 'no'])\n",
    "replaceStrValuesOutOfRangeWithNone(studmath, 'famsup', ['yes', 'no'])\n",
    "replaceStrValuesOutOfRangeWithNone(studmath, 'paid', ['yes', 'no'])\n",
    "replaceStrValuesOutOfRangeWithNone(studmath, 'activities', ['yes', 'no'])\n",
    "replaceStrValuesOutOfRangeWithNone(studmath, 'nursery', ['yes', 'no'])\n",
    "replaceStrValuesOutOfRangeWithNone(studmath, 'higher', ['yes', 'no'])\n",
    "replaceStrValuesOutOfRangeWithNone(studmath, 'internet', ['yes', 'no'])\n",
    "replaceStrValuesOutOfRangeWithNone(studmath, 'romantic', ['yes', 'no'])\n",
    "replaceValuesOutOfRangeWithNone(studmath, 'famrel', [1,2,3,4,5])\n",
    "replaceValuesOutOfRangeWithNone(studmath, 'freetime', [1,2,3,4,5])\n",
    "replaceValuesOutOfRangeWithNone(studmath, 'goout', [1,2,3,4,5])\n",
    "replaceValuesOutOfRangeWithNone(studmath, 'health', [1,2,3,4,5])\n"
   ]
  },
  {
   "cell_type": "code",
   "execution_count": 7,
   "metadata": {},
   "outputs": [
    {
     "data": {
      "image/png": "[encoded data removed]",
      "text/plain": [
       "<Figure size 432x288 with 1 Axes>"
      ]
     },
     "metadata": {
      "needs_background": "light"
     },
     "output_type": "display_data"
    }
   ],
   "source": [
    "# удалять выбросы нужно только для чисто числовых колонок (не кодирующих ни какие категории)\n",
    "# удаляем выбросы для прогулов\n",
    "removeOutliers(studmath, 'absences')\n"
   ]
  },
  {
   "cell_type": "code",
   "execution_count": 8,
   "metadata": {},
   "outputs": [
    {
     "data": {
      "image/png": "[encoded data removed]",
      "text/plain": [
       "<Figure size 432x288 with 1 Axes>"
      ]
     },
     "metadata": {
      "needs_background": "light"
     },
     "output_type": "display_data"
    }
   ],
   "source": [
    "# удаляем выбросы для оценки\n",
    "removeOutliers(studmath, 'score')\n",
    "# оставляем в датафрейме только записи с заполненным полем score\n",
    "studmath = studmath.loc[~pd.isnull(studmath.score)]"
   ]
  },
  {
   "cell_type": "code",
   "execution_count": 9,
   "metadata": {},
   "outputs": [
    {
     "name": "stdout",
     "output_type": "stream",
     "text": [
      "Колонка  school\n"
     ]
    },
    {
     "data": {
      "text/plain": [
       "GP    0.884319\n",
       "MS    0.115681\n",
       "Name: school, dtype: float64"
      ]
     },
     "metadata": {},
     "output_type": "display_data"
    },
    {
     "name": "stdout",
     "output_type": "stream",
     "text": [
      "Количество уникальных значений 2\n",
      "Количество пустых значений 0\n",
      "Колонка  sex\n"
     ]
    },
    {
     "data": {
      "text/plain": [
       "f    0.524422\n",
       "m    0.475578\n",
       "Name: sex, dtype: float64"
      ]
     },
     "metadata": {},
     "output_type": "display_data"
    },
    {
     "name": "stdout",
     "output_type": "stream",
     "text": [
      "Количество уникальных значений 2\n",
      "Количество пустых значений 0\n",
      "Колонка  age\n"
     ]
    },
    {
     "data": {
      "text/plain": [
       "16    0.264781\n",
       "17    0.251928\n",
       "15    0.210797\n",
       "18    0.205656\n",
       "19    0.053985\n",
       "20    0.007712\n",
       "22    0.002571\n",
       "21    0.002571\n",
       "Name: age, dtype: float64"
      ]
     },
     "metadata": {},
     "output_type": "display_data"
    },
    {
     "name": "stdout",
     "output_type": "stream",
     "text": [
      "Количество уникальных значений 8\n",
      "Количество пустых значений 0\n",
      "Колонка  address\n"
     ]
    },
    {
     "data": {
      "text/plain": [
       "u    0.778075\n",
       "r    0.221925\n",
       "Name: address, dtype: float64"
      ]
     },
     "metadata": {},
     "output_type": "display_data"
    },
    {
     "name": "stdout",
     "output_type": "stream",
     "text": [
      "Количество уникальных значений 3\n",
      "Количество пустых значений 15\n",
      "Колонка  famsize\n"
     ]
    },
    {
     "data": {
      "text/plain": [
       "gt3    0.70442\n",
       "le3    0.29558\n",
       "Name: famsize, dtype: float64"
      ]
     },
     "metadata": {},
     "output_type": "display_data"
    },
    {
     "name": "stdout",
     "output_type": "stream",
     "text": [
      "Количество уникальных значений 3\n",
      "Количество пустых значений 27\n",
      "Колонка  pstatus\n"
     ]
    },
    {
     "data": {
      "text/plain": [
       "t    0.895349\n",
       "a    0.104651\n",
       "Name: pstatus, dtype: float64"
      ]
     },
     "metadata": {},
     "output_type": "display_data"
    },
    {
     "name": "stdout",
     "output_type": "stream",
     "text": [
      "Количество уникальных значений 3\n",
      "Количество пустых значений 45\n",
      "Колонка  medu\n"
     ]
    },
    {
     "data": {
      "text/plain": [
       "4.0    0.339378\n",
       "2.0    0.259067\n",
       "3.0    0.248705\n",
       "1.0    0.145078\n",
       "0.0    0.007772\n",
       "Name: medu, dtype: float64"
      ]
     },
     "metadata": {},
     "output_type": "display_data"
    },
    {
     "name": "stdout",
     "output_type": "stream",
     "text": [
      "Количество уникальных значений 6\n",
      "Количество пустых значений 3\n",
      "Колонка  fedu\n"
     ]
    },
    {
     "data": {
      "text/plain": [
       "2.0    0.288462\n",
       "3.0    0.258242\n",
       "4.0    0.241758\n",
       "1.0    0.206044\n",
       "0.0    0.005495\n",
       "Name: fedu, dtype: float64"
      ]
     },
     "metadata": {},
     "output_type": "display_data"
    },
    {
     "name": "stdout",
     "output_type": "stream",
     "text": [
      "Количество уникальных значений 6\n",
      "Количество пустых значений 25\n",
      "Колонка  mjob\n"
     ]
    },
    {
     "data": {
      "text/plain": [
       "other       0.343243\n",
       "services    0.264865\n",
       "at_home     0.156757\n",
       "teacher     0.148649\n",
       "health      0.086486\n",
       "Name: mjob, dtype: float64"
      ]
     },
     "metadata": {},
     "output_type": "display_data"
    },
    {
     "name": "stdout",
     "output_type": "stream",
     "text": [
      "Количество уникальных значений 6\n",
      "Количество пустых значений 19\n",
      "Колонка  fjob\n"
     ]
    },
    {
     "data": {
      "text/plain": [
       "other       0.549575\n",
       "services    0.280453\n",
       "teacher     0.082153\n",
       "at_home     0.045326\n",
       "health      0.042493\n",
       "Name: fjob, dtype: float64"
      ]
     },
     "metadata": {},
     "output_type": "display_data"
    },
    {
     "name": "stdout",
     "output_type": "stream",
     "text": [
      "Количество уникальных значений 6\n",
      "Количество пустых значений 36\n",
      "Колонка  reason\n"
     ]
    },
    {
     "data": {
      "text/plain": [
       "reputation    0.43038\n",
       "home          0.42616\n",
       "other         0.14346\n",
       "Name: reason, dtype: float64"
      ]
     },
     "metadata": {},
     "output_type": "display_data"
    },
    {
     "name": "stdout",
     "output_type": "stream",
     "text": [
      "Количество уникальных значений 4\n",
      "Количество пустых значений 152\n",
      "Колонка  guardian\n"
     ]
    },
    {
     "data": {
      "text/plain": [
       "mother    0.692737\n",
       "father    0.240223\n",
       "other     0.067039\n",
       "Name: guardian, dtype: float64"
      ]
     },
     "metadata": {},
     "output_type": "display_data"
    },
    {
     "name": "stdout",
     "output_type": "stream",
     "text": [
      "Количество уникальных значений 4\n",
      "Количество пустых значений 31\n",
      "Колонка  traveltime\n"
     ]
    },
    {
     "data": {
      "text/plain": [
       "1.0    0.662050\n",
       "2.0    0.260388\n",
       "3.0    0.058172\n",
       "4.0    0.019391\n",
       "Name: traveltime, dtype: float64"
      ]
     },
     "metadata": {},
     "output_type": "display_data"
    },
    {
     "name": "stdout",
     "output_type": "stream",
     "text": [
      "Количество уникальных значений 5\n",
      "Количество пустых значений 28\n",
      "Колонка  studytime\n"
     ]
    },
    {
     "data": {
      "text/plain": [
       "2.0    0.494764\n",
       "1.0    0.269634\n",
       "3.0    0.164921\n",
       "4.0    0.070681\n",
       "Name: studytime, dtype: float64"
      ]
     },
     "metadata": {},
     "output_type": "display_data"
    },
    {
     "name": "stdout",
     "output_type": "stream",
     "text": [
      "Количество уникальных значений 5\n",
      "Количество пустых значений 7\n",
      "Колонка  failures\n"
     ]
    },
    {
     "data": {
      "text/plain": [
       "0.0    0.790191\n",
       "1.0    0.130790\n",
       "2.0    0.040872\n",
       "3.0    0.038147\n",
       "Name: failures, dtype: float64"
      ]
     },
     "metadata": {},
     "output_type": "display_data"
    },
    {
     "name": "stdout",
     "output_type": "stream",
     "text": [
      "Количество уникальных значений 5\n",
      "Количество пустых значений 22\n",
      "Колонка  schoolsup\n"
     ]
    },
    {
     "data": {
      "text/plain": [
       "no     0.871053\n",
       "yes    0.128947\n",
       "Name: schoolsup, dtype: float64"
      ]
     },
     "metadata": {},
     "output_type": "display_data"
    },
    {
     "name": "stdout",
     "output_type": "stream",
     "text": [
      "Количество уникальных значений 3\n",
      "Количество пустых значений 9\n",
      "Колонка  famsup\n"
     ]
    },
    {
     "data": {
      "text/plain": [
       "yes    0.615385\n",
       "no     0.384615\n",
       "Name: famsup, dtype: float64"
      ]
     },
     "metadata": {},
     "output_type": "display_data"
    },
    {
     "name": "stdout",
     "output_type": "stream",
     "text": [
      "Количество уникальных значений 3\n",
      "Количество пустых значений 38\n",
      "Колонка  paid\n"
     ]
    },
    {
     "data": {
      "text/plain": [
       "no     0.562857\n",
       "yes    0.437143\n",
       "Name: paid, dtype: float64"
      ]
     },
     "metadata": {},
     "output_type": "display_data"
    },
    {
     "name": "stdout",
     "output_type": "stream",
     "text": [
      "Количество уникальных значений 3\n",
      "Количество пустых значений 39\n",
      "Колонка  activities\n"
     ]
    },
    {
     "data": {
      "text/plain": [
       "yes    0.512\n",
       "no     0.488\n",
       "Name: activities, dtype: float64"
      ]
     },
     "metadata": {},
     "output_type": "display_data"
    },
    {
     "name": "stdout",
     "output_type": "stream",
     "text": [
      "Количество уникальных значений 3\n",
      "Количество пустых значений 14\n",
      "Колонка  nursery\n"
     ]
    },
    {
     "data": {
      "text/plain": [
       "yes    0.794118\n",
       "no     0.205882\n",
       "Name: nursery, dtype: float64"
      ]
     },
     "metadata": {},
     "output_type": "display_data"
    },
    {
     "name": "stdout",
     "output_type": "stream",
     "text": [
      "Количество уникальных значений 3\n",
      "Количество пустых значений 15\n",
      "Колонка  studytime_granular\n"
     ]
    },
    {
     "data": {
      "text/plain": [
       "-6.0     0.494764\n",
       "-3.0     0.269634\n",
       "-9.0     0.164921\n",
       "-12.0    0.070681\n",
       "Name: studytime_granular, dtype: float64"
      ]
     },
     "metadata": {},
     "output_type": "display_data"
    },
    {
     "name": "stdout",
     "output_type": "stream",
     "text": [
      "Количество уникальных значений 5\n",
      "Количество пустых значений 7\n",
      "Колонка  higher\n"
     ]
    },
    {
     "data": {
      "text/plain": [
       "yes    0.948509\n",
       "no     0.051491\n",
       "Name: higher, dtype: float64"
      ]
     },
     "metadata": {},
     "output_type": "display_data"
    },
    {
     "name": "stdout",
     "output_type": "stream",
     "text": [
      "Количество уникальных значений 3\n",
      "Количество пустых значений 20\n",
      "Колонка  internet\n"
     ]
    },
    {
     "data": {
      "text/plain": [
       "yes    0.84507\n",
       "no     0.15493\n",
       "Name: internet, dtype: float64"
      ]
     },
     "metadata": {},
     "output_type": "display_data"
    },
    {
     "name": "stdout",
     "output_type": "stream",
     "text": [
      "Количество уникальных значений 3\n",
      "Количество пустых значений 34\n",
      "Колонка  romantic\n"
     ]
    },
    {
     "data": {
      "text/plain": [
       "no     0.656425\n",
       "yes    0.343575\n",
       "Name: romantic, dtype: float64"
      ]
     },
     "metadata": {},
     "output_type": "display_data"
    },
    {
     "name": "stdout",
     "output_type": "stream",
     "text": [
      "Количество уникальных значений 3\n",
      "Количество пустых значений 31\n",
      "Колонка  famrel\n"
     ]
    },
    {
     "data": {
      "text/plain": [
       "4.0    0.493075\n",
       "5.0    0.268698\n",
       "3.0    0.171745\n",
       "2.0    0.047091\n",
       "1.0    0.019391\n",
       "Name: famrel, dtype: float64"
      ]
     },
     "metadata": {},
     "output_type": "display_data"
    },
    {
     "name": "stdout",
     "output_type": "stream",
     "text": [
      "Количество уникальных значений 6\n",
      "Количество пустых значений 28\n",
      "Колонка  freetime\n"
     ]
    },
    {
     "data": {
      "text/plain": [
       "3.0    0.400000\n",
       "4.0    0.289474\n",
       "2.0    0.165789\n",
       "5.0    0.097368\n",
       "1.0    0.047368\n",
       "Name: freetime, dtype: float64"
      ]
     },
     "metadata": {},
     "output_type": "display_data"
    },
    {
     "name": "stdout",
     "output_type": "stream",
     "text": [
      "Количество уникальных значений 6\n",
      "Количество пустых значений 9\n",
      "Колонка  goout\n"
     ]
    },
    {
     "data": {
      "text/plain": [
       "3.0    0.329843\n",
       "2.0    0.264398\n",
       "4.0    0.212042\n",
       "5.0    0.133508\n",
       "1.0    0.060209\n",
       "Name: goout, dtype: float64"
      ]
     },
     "metadata": {},
     "output_type": "display_data"
    },
    {
     "name": "stdout",
     "output_type": "stream",
     "text": [
      "Количество уникальных значений 6\n",
      "Количество пустых значений 7\n",
      "Колонка  health\n"
     ]
    },
    {
     "data": {
      "text/plain": [
       "5.0    0.366310\n",
       "3.0    0.235294\n",
       "4.0    0.160428\n",
       "1.0    0.125668\n",
       "2.0    0.112299\n",
       "Name: health, dtype: float64"
      ]
     },
     "metadata": {},
     "output_type": "display_data"
    },
    {
     "name": "stdout",
     "output_type": "stream",
     "text": [
      "Количество уникальных значений 6\n",
      "Количество пустых значений 15\n",
      "Колонка  absences\n"
     ]
    },
    {
     "data": {
      "text/plain": [
       "0.0     0.308123\n",
       "2.0     0.168067\n",
       "4.0     0.145658\n",
       "6.0     0.084034\n",
       "8.0     0.056022\n",
       "10.0    0.047619\n",
       "14.0    0.033613\n",
       "12.0    0.033613\n",
       "16.0    0.019608\n",
       "3.0     0.019608\n",
       "7.0     0.016807\n",
       "5.0     0.014006\n",
       "18.0    0.014006\n",
       "1.0     0.008403\n",
       "9.0     0.008403\n",
       "11.0    0.005602\n",
       "13.0    0.005602\n",
       "15.0    0.005602\n",
       "19.0    0.002801\n",
       "17.0    0.002801\n",
       "Name: absences, dtype: float64"
      ]
     },
     "metadata": {},
     "output_type": "display_data"
    },
    {
     "name": "stdout",
     "output_type": "stream",
     "text": [
      "Количество уникальных значений 21\n",
      "Количество пустых значений 32\n",
      "Колонка  score\n"
     ]
    },
    {
     "data": {
      "text/plain": [
       "50.0     0.138817\n",
       "55.0     0.118252\n",
       "0.0      0.095116\n",
       "75.0     0.084833\n",
       "65.0     0.079692\n",
       "40.0     0.079692\n",
       "60.0     0.079692\n",
       "70.0     0.069409\n",
       "45.0     0.069409\n",
       "80.0     0.041131\n",
       "30.0     0.038560\n",
       "90.0     0.030848\n",
       "35.0     0.023136\n",
       "25.0     0.017995\n",
       "85.0     0.015424\n",
       "95.0     0.012853\n",
       "100.0    0.002571\n",
       "20.0     0.002571\n",
       "Name: score, dtype: float64"
      ]
     },
     "metadata": {},
     "output_type": "display_data"
    },
    {
     "name": "stdout",
     "output_type": "stream",
     "text": [
      "Количество уникальных значений 18\n",
      "Количество пустых значений 0\n"
     ]
    }
   ],
   "source": [
    "#  смотрим на распределение значений по колонкам\n",
    "for colName in studmath.columns:\n",
    "    showDistribution(studmath, colName)"
   ]
  },
  {
   "cell_type": "markdown",
   "metadata": {},
   "source": [
    "Для колонок остались только ожидаемые значения.\n",
    "Для колонки reason много пустых значений (почти половина) - видимо, не все смогли или захотели ответить на вопрос о причине выбора школы.\n",
    "По остальным колонкам не так много пропусков."
   ]
  },
  {
   "cell_type": "code",
   "execution_count": 10,
   "metadata": {},
   "outputs": [
    {
     "data": {
      "text/html": [
       "<div>\n",
       "<style scoped>\n",
       "    .dataframe tbody tr th:only-of-type {\n",
       "        vertical-align: middle;\n",
       "    }\n",
       "\n",
       "    .dataframe tbody tr th {\n",
       "        vertical-align: top;\n",
       "    }\n",
       "\n",
       "    .dataframe thead th {\n",
       "        text-align: right;\n",
       "    }\n",
       "</style>\n",
       "<table border=\"1\" class=\"dataframe\">\n",
       "  <thead>\n",
       "    <tr style=\"text-align: right;\">\n",
       "      <th></th>\n",
       "      <th>age</th>\n",
       "      <th>medu</th>\n",
       "      <th>fedu</th>\n",
       "      <th>traveltime</th>\n",
       "      <th>studytime</th>\n",
       "      <th>failures</th>\n",
       "      <th>studytime_granular</th>\n",
       "      <th>famrel</th>\n",
       "      <th>freetime</th>\n",
       "      <th>goout</th>\n",
       "      <th>health</th>\n",
       "      <th>absences</th>\n",
       "      <th>score</th>\n",
       "    </tr>\n",
       "  </thead>\n",
       "  <tbody>\n",
       "    <tr>\n",
       "      <th>age</th>\n",
       "      <td>1.000000</td>\n",
       "      <td>-0.146736</td>\n",
       "      <td>-0.147952</td>\n",
       "      <td>0.073146</td>\n",
       "      <td>-0.018227</td>\n",
       "      <td>0.205919</td>\n",
       "      <td>0.018227</td>\n",
       "      <td>0.054846</td>\n",
       "      <td>0.016099</td>\n",
       "      <td>0.121115</td>\n",
       "      <td>-0.068103</td>\n",
       "      <td>0.133498</td>\n",
       "      <td>-0.155726</td>\n",
       "    </tr>\n",
       "    <tr>\n",
       "      <th>medu</th>\n",
       "      <td>-0.146736</td>\n",
       "      <td>1.000000</td>\n",
       "      <td>0.626536</td>\n",
       "      <td>-0.165838</td>\n",
       "      <td>0.081032</td>\n",
       "      <td>-0.240319</td>\n",
       "      <td>-0.081032</td>\n",
       "      <td>-0.010205</td>\n",
       "      <td>0.038265</td>\n",
       "      <td>0.072320</td>\n",
       "      <td>-0.048331</td>\n",
       "      <td>0.096191</td>\n",
       "      <td>0.213349</td>\n",
       "    </tr>\n",
       "    <tr>\n",
       "      <th>fedu</th>\n",
       "      <td>-0.147952</td>\n",
       "      <td>0.626536</td>\n",
       "      <td>1.000000</td>\n",
       "      <td>-0.142170</td>\n",
       "      <td>0.013009</td>\n",
       "      <td>-0.272352</td>\n",
       "      <td>-0.013009</td>\n",
       "      <td>-0.026481</td>\n",
       "      <td>-0.012749</td>\n",
       "      <td>0.054938</td>\n",
       "      <td>0.017321</td>\n",
       "      <td>-0.007497</td>\n",
       "      <td>0.130002</td>\n",
       "    </tr>\n",
       "    <tr>\n",
       "      <th>traveltime</th>\n",
       "      <td>0.073146</td>\n",
       "      <td>-0.165838</td>\n",
       "      <td>-0.142170</td>\n",
       "      <td>1.000000</td>\n",
       "      <td>-0.105910</td>\n",
       "      <td>0.049738</td>\n",
       "      <td>0.105910</td>\n",
       "      <td>-0.039304</td>\n",
       "      <td>-0.026299</td>\n",
       "      <td>0.032629</td>\n",
       "      <td>-0.011724</td>\n",
       "      <td>-0.086609</td>\n",
       "      <td>-0.070559</td>\n",
       "    </tr>\n",
       "    <tr>\n",
       "      <th>studytime</th>\n",
       "      <td>-0.018227</td>\n",
       "      <td>0.081032</td>\n",
       "      <td>0.013009</td>\n",
       "      <td>-0.105910</td>\n",
       "      <td>1.000000</td>\n",
       "      <td>-0.181947</td>\n",
       "      <td>-1.000000</td>\n",
       "      <td>0.029253</td>\n",
       "      <td>-0.125066</td>\n",
       "      <td>-0.053831</td>\n",
       "      <td>-0.079180</td>\n",
       "      <td>-0.067155</td>\n",
       "      <td>0.115741</td>\n",
       "    </tr>\n",
       "    <tr>\n",
       "      <th>failures</th>\n",
       "      <td>0.205919</td>\n",
       "      <td>-0.240319</td>\n",
       "      <td>-0.272352</td>\n",
       "      <td>0.049738</td>\n",
       "      <td>-0.181947</td>\n",
       "      <td>1.000000</td>\n",
       "      <td>0.181947</td>\n",
       "      <td>0.000506</td>\n",
       "      <td>0.091608</td>\n",
       "      <td>0.107747</td>\n",
       "      <td>0.088013</td>\n",
       "      <td>0.071433</td>\n",
       "      <td>-0.344338</td>\n",
       "    </tr>\n",
       "    <tr>\n",
       "      <th>studytime_granular</th>\n",
       "      <td>0.018227</td>\n",
       "      <td>-0.081032</td>\n",
       "      <td>-0.013009</td>\n",
       "      <td>0.105910</td>\n",
       "      <td>-1.000000</td>\n",
       "      <td>0.181947</td>\n",
       "      <td>1.000000</td>\n",
       "      <td>-0.029253</td>\n",
       "      <td>0.125066</td>\n",
       "      <td>0.053831</td>\n",
       "      <td>0.079180</td>\n",
       "      <td>0.067155</td>\n",
       "      <td>-0.115741</td>\n",
       "    </tr>\n",
       "    <tr>\n",
       "      <th>famrel</th>\n",
       "      <td>0.054846</td>\n",
       "      <td>-0.010205</td>\n",
       "      <td>-0.026481</td>\n",
       "      <td>-0.039304</td>\n",
       "      <td>0.029253</td>\n",
       "      <td>0.000506</td>\n",
       "      <td>-0.029253</td>\n",
       "      <td>1.000000</td>\n",
       "      <td>0.162715</td>\n",
       "      <td>0.064314</td>\n",
       "      <td>0.100807</td>\n",
       "      <td>-0.069989</td>\n",
       "      <td>0.051219</td>\n",
       "    </tr>\n",
       "    <tr>\n",
       "      <th>freetime</th>\n",
       "      <td>0.016099</td>\n",
       "      <td>0.038265</td>\n",
       "      <td>-0.012749</td>\n",
       "      <td>-0.026299</td>\n",
       "      <td>-0.125066</td>\n",
       "      <td>0.091608</td>\n",
       "      <td>0.125066</td>\n",
       "      <td>0.162715</td>\n",
       "      <td>1.000000</td>\n",
       "      <td>0.296338</td>\n",
       "      <td>0.064315</td>\n",
       "      <td>0.089239</td>\n",
       "      <td>0.019026</td>\n",
       "    </tr>\n",
       "    <tr>\n",
       "      <th>goout</th>\n",
       "      <td>0.121115</td>\n",
       "      <td>0.072320</td>\n",
       "      <td>0.054938</td>\n",
       "      <td>0.032629</td>\n",
       "      <td>-0.053831</td>\n",
       "      <td>0.107747</td>\n",
       "      <td>0.053831</td>\n",
       "      <td>0.064314</td>\n",
       "      <td>0.296338</td>\n",
       "      <td>1.000000</td>\n",
       "      <td>-0.018026</td>\n",
       "      <td>0.132140</td>\n",
       "      <td>-0.129685</td>\n",
       "    </tr>\n",
       "    <tr>\n",
       "      <th>health</th>\n",
       "      <td>-0.068103</td>\n",
       "      <td>-0.048331</td>\n",
       "      <td>0.017321</td>\n",
       "      <td>-0.011724</td>\n",
       "      <td>-0.079180</td>\n",
       "      <td>0.088013</td>\n",
       "      <td>0.079180</td>\n",
       "      <td>0.100807</td>\n",
       "      <td>0.064315</td>\n",
       "      <td>-0.018026</td>\n",
       "      <td>1.000000</td>\n",
       "      <td>-0.019365</td>\n",
       "      <td>-0.070460</td>\n",
       "    </tr>\n",
       "    <tr>\n",
       "      <th>absences</th>\n",
       "      <td>0.133498</td>\n",
       "      <td>0.096191</td>\n",
       "      <td>-0.007497</td>\n",
       "      <td>-0.086609</td>\n",
       "      <td>-0.067155</td>\n",
       "      <td>0.071433</td>\n",
       "      <td>0.067155</td>\n",
       "      <td>-0.069989</td>\n",
       "      <td>0.089239</td>\n",
       "      <td>0.132140</td>\n",
       "      <td>-0.019365</td>\n",
       "      <td>1.000000</td>\n",
       "      <td>0.077317</td>\n",
       "    </tr>\n",
       "    <tr>\n",
       "      <th>score</th>\n",
       "      <td>-0.155726</td>\n",
       "      <td>0.213349</td>\n",
       "      <td>0.130002</td>\n",
       "      <td>-0.070559</td>\n",
       "      <td>0.115741</td>\n",
       "      <td>-0.344338</td>\n",
       "      <td>-0.115741</td>\n",
       "      <td>0.051219</td>\n",
       "      <td>0.019026</td>\n",
       "      <td>-0.129685</td>\n",
       "      <td>-0.070460</td>\n",
       "      <td>0.077317</td>\n",
       "      <td>1.000000</td>\n",
       "    </tr>\n",
       "  </tbody>\n",
       "</table>\n",
       "</div>"
      ],
      "text/plain": [
       "                         age      medu      fedu  traveltime  studytime  \\\n",
       "age                 1.000000 -0.146736 -0.147952    0.073146  -0.018227   \n",
       "medu               -0.146736  1.000000  0.626536   -0.165838   0.081032   \n",
       "fedu               -0.147952  0.626536  1.000000   -0.142170   0.013009   \n",
       "traveltime          0.073146 -0.165838 -0.142170    1.000000  -0.105910   \n",
       "studytime          -0.018227  0.081032  0.013009   -0.105910   1.000000   \n",
       "failures            0.205919 -0.240319 -0.272352    0.049738  -0.181947   \n",
       "studytime_granular  0.018227 -0.081032 -0.013009    0.105910  -1.000000   \n",
       "famrel              0.054846 -0.010205 -0.026481   -0.039304   0.029253   \n",
       "freetime            0.016099  0.038265 -0.012749   -0.026299  -0.125066   \n",
       "goout               0.121115  0.072320  0.054938    0.032629  -0.053831   \n",
       "health             -0.068103 -0.048331  0.017321   -0.011724  -0.079180   \n",
       "absences            0.133498  0.096191 -0.007497   -0.086609  -0.067155   \n",
       "score              -0.155726  0.213349  0.130002   -0.070559   0.115741   \n",
       "\n",
       "                    failures  studytime_granular    famrel  freetime  \\\n",
       "age                 0.205919            0.018227  0.054846  0.016099   \n",
       "medu               -0.240319           -0.081032 -0.010205  0.038265   \n",
       "fedu               -0.272352           -0.013009 -0.026481 -0.012749   \n",
       "traveltime          0.049738            0.105910 -0.039304 -0.026299   \n",
       "studytime          -0.181947           -1.000000  0.029253 -0.125066   \n",
       "failures            1.000000            0.181947  0.000506  0.091608   \n",
       "studytime_granular  0.181947            1.000000 -0.029253  0.125066   \n",
       "famrel              0.000506           -0.029253  1.000000  0.162715   \n",
       "freetime            0.091608            0.125066  0.162715  1.000000   \n",
       "goout               0.107747            0.053831  0.064314  0.296338   \n",
       "health              0.088013            0.079180  0.100807  0.064315   \n",
       "absences            0.071433            0.067155 -0.069989  0.089239   \n",
       "score              -0.344338           -0.115741  0.051219  0.019026   \n",
       "\n",
       "                       goout    health  absences     score  \n",
       "age                 0.121115 -0.068103  0.133498 -0.155726  \n",
       "medu                0.072320 -0.048331  0.096191  0.213349  \n",
       "fedu                0.054938  0.017321 -0.007497  0.130002  \n",
       "traveltime          0.032629 -0.011724 -0.086609 -0.070559  \n",
       "studytime          -0.053831 -0.079180 -0.067155  0.115741  \n",
       "failures            0.107747  0.088013  0.071433 -0.344338  \n",
       "studytime_granular  0.053831  0.079180  0.067155 -0.115741  \n",
       "famrel              0.064314  0.100807 -0.069989  0.051219  \n",
       "freetime            0.296338  0.064315  0.089239  0.019026  \n",
       "goout               1.000000 -0.018026  0.132140 -0.129685  \n",
       "health             -0.018026  1.000000 -0.019365 -0.070460  \n",
       "absences            0.132140 -0.019365  1.000000  0.077317  \n",
       "score              -0.129685 -0.070460  0.077317  1.000000  "
      ]
     },
     "execution_count": 10,
     "metadata": {},
     "output_type": "execute_result"
    }
   ],
   "source": [
    "# для числовых колонок считаем корреляцию\n",
    "studmath.corr()"
   ]
  },
  {
   "cell_type": "markdown",
   "metadata": {},
   "source": [
    "Корреляция показала обратную зависимость studytime и studytime granular. Последнюю можно исключить из анализа.\n",
    "Колонки age и absences остаются для дальнейшего анализа.\n",
    "\n",
    "Т.к. большенство числовых колонок являются номерами неких категорий, то построим по этим категориям распределение score:"
   ]
  },
  {
   "cell_type": "code",
   "execution_count": 11,
   "metadata": {},
   "outputs": [
    {
     "data": {
      "image/png": "[encoded data removed]",
      "text/plain": [
       "<Figure size 1008x288 with 1 Axes>"
      ]
     },
     "metadata": {
      "needs_background": "light"
     },
     "output_type": "display_data"
    },
    {
     "data": {
      "image/png": "[encoded data removed]",
      "text/plain": [
       "<Figure size 1008x288 with 1 Axes>"
      ]
     },
     "metadata": {
      "needs_background": "light"
     },
     "output_type": "display_data"
    },
    {
     "data": {
      "image/png": "[encoded data removed]",
      "text/plain": [
       "<Figure size 1008x288 with 1 Axes>"
      ]
     },
     "metadata": {
      "needs_background": "light"
     },
     "output_type": "display_data"
    },
    {
     "data": {
      "image/png": "[encoded data removed]",
      "text/plain": [
       "<Figure size 1008x288 with 1 Axes>"
      ]
     },
     "metadata": {
      "needs_background": "light"
     },
     "output_type": "display_data"
    },
    {
     "data": {
      "image/png": "[encoded data removed]",
      "text/plain": [
       "<Figure size 1008x288 with 1 Axes>"
      ]
     },
     "metadata": {
      "needs_background": "light"
     },
     "output_type": "display_data"
    },
    {
     "data": {
      "image/png": "[encoded data removed]",
      "text/plain": [
       "<Figure size 1008x288 with 1 Axes>"
      ]
     },
     "metadata": {
      "needs_background": "light"
     },
     "output_type": "display_data"
    },
    {
     "data": {
      "image/png": "[encoded data removed]",
      "text/plain": [
       "<Figure size 1008x288 with 1 Axes>"
      ]
     },
     "metadata": {
      "needs_background": "light"
     },
     "output_type": "display_data"
    },
    {
     "data": {
      "image/png": "[encoded data removed]",
      "text/plain": [
       "<Figure size 1008x288 with 1 Axes>"
      ]
     },
     "metadata": {
      "needs_background": "light"
     },
     "output_type": "display_data"
    },
    {
     "data": {
      "image/png": "[encoded data removed]",
      "text/plain": [
       "<Figure size 1008x288 with 1 Axes>"
      ]
     },
     "metadata": {
      "needs_background": "light"
     },
     "output_type": "display_data"
    },
    {
     "data": {
      "image/png": "[encoded data removed]",
      "text/plain": [
       "<Figure size 1008x288 with 1 Axes>"
      ]
     },
     "metadata": {
      "needs_background": "light"
     },
     "output_type": "display_data"
    },
    {
     "data": {
      "image/png": "[encoded data removed]",
      "text/plain": [
       "<Figure size 1008x288 with 1 Axes>"
      ]
     },
     "metadata": {
      "needs_background": "light"
     },
     "output_type": "display_data"
    }
   ],
   "source": [
    "for col in numColumns:\n",
    "    get_boxplot(studmath, col)"
   ]
  },
  {
   "cell_type": "code",
   "execution_count": 12,
   "metadata": {},
   "outputs": [
    {
     "name": "stdout",
     "output_type": "stream",
     "text": [
      "Найдены статистически значимые различия для колонки medu\n",
      "Найдены статистически значимые различия для колонки failures\n",
      "Найдены статистически значимые различия для колонки goout\n"
     ]
    },
    {
     "name": "stderr",
     "output_type": "stream",
     "text": [
      "/Users/antonzubov/opt/anaconda3/lib/python3.8/site-packages/numpy/core/fromnumeric.py:3583: RuntimeWarning: Degrees of freedom <= 0 for slice\n",
      "  return _methods._var(a, axis=axis, dtype=dtype, out=out, ddof=ddof,\n",
      "/Users/antonzubov/opt/anaconda3/lib/python3.8/site-packages/numpy/core/_methods.py:209: RuntimeWarning: invalid value encountered in double_scalars\n",
      "  ret = ret.dtype.type(ret / rcount)\n"
     ]
    }
   ],
   "source": [
    "# средние значения и размахи по категориям в каждой колонке различаются\n",
    "# посчитаем, для каких колонок различие в score по категориям является статистически значимым\n",
    "for col in numColumns:\n",
    "    if get_stat_dif(studmath, col):\n",
    "        columnsToPreserve.append(col)\n",
    "# get_stat_dif(studmath, 'health')"
   ]
  },
  {
   "cell_type": "markdown",
   "metadata": {},
   "source": [
    "Теперь проведем аналогичный анализ по номинативным колонкам."
   ]
  },
  {
   "cell_type": "code",
   "execution_count": 13,
   "metadata": {},
   "outputs": [
    {
     "data": {
      "image/png": "[encoded data removed]",
      "text/plain": [
       "<Figure size 1008x288 with 1 Axes>"
      ]
     },
     "metadata": {
      "needs_background": "light"
     },
     "output_type": "display_data"
    },
    {
     "data": {
      "image/png": "[encoded data removed]",
      "text/plain": [
       "<Figure size 1008x288 with 1 Axes>"
      ]
     },
     "metadata": {
      "needs_background": "light"
     },
     "output_type": "display_data"
    },
    {
     "data": {
      "image/png": "[encoded data removed]",
      "text/plain": [
       "<Figure size 1008x288 with 1 Axes>"
      ]
     },
     "metadata": {
      "needs_background": "light"
     },
     "output_type": "display_data"
    },
    {
     "data": {
      "image/png": "[encoded data removed]",
      "text/plain": [
       "<Figure size 1008x288 with 1 Axes>"
      ]
     },
     "metadata": {
      "needs_background": "light"
     },
     "output_type": "display_data"
    },
    {
     "data": {
      "image/png": "[encoded data removed]",
      "text/plain": [
       "<Figure size 1008x288 with 1 Axes>"
      ]
     },
     "metadata": {
      "needs_background": "light"
     },
     "output_type": "display_data"
    },
    {
     "data": {
      "image/png": "[encoded data removed]",
      "text/plain": [
       "<Figure size 1008x288 with 1 Axes>"
      ]
     },
     "metadata": {
      "needs_background": "light"
     },
     "output_type": "display_data"
    },
    {
     "data": {
      "image/png": "[encoded data removed]",
      "text/plain": [
       "<Figure size 1008x288 with 1 Axes>"
      ]
     },
     "metadata": {
      "needs_background": "light"
     },
     "output_type": "display_data"
    },
    {
     "data": {
      "image/png": "[encoded data removed]",
      "text/plain": [
       "<Figure size 1008x288 with 1 Axes>"
      ]
     },
     "metadata": {
      "needs_background": "light"
     },
     "output_type": "display_data"
    },
    {
     "data": {
      "image/png": "[encoded data removed]",
      "text/plain": [
       "<Figure size 1008x288 with 1 Axes>"
      ]
     },
     "metadata": {
      "needs_background": "light"
     },
     "output_type": "display_data"
    },
    {
     "data": {
      "image/png": "[encoded data removed]",
      "text/plain": [
       "<Figure size 1008x288 with 1 Axes>"
      ]
     },
     "metadata": {
      "needs_background": "light"
     },
     "output_type": "display_data"
    },
    {
     "data": {
      "image/png": "[encoded data removed]",
      "text/plain": [
       "<Figure size 1008x288 with 1 Axes>"
      ]
     },
     "metadata": {
      "needs_background": "light"
     },
     "output_type": "display_data"
    },
    {
     "data": {
      "image/png": "[encoded data removed]",
      "text/plain": [
       "<Figure size 1008x288 with 1 Axes>"
      ]
     },
     "metadata": {
      "needs_background": "light"
     },
     "output_type": "display_data"
    },
    {
     "data": {
      "image/png": "[encoded data removed]",
      "text/plain": [
       "<Figure size 1008x288 with 1 Axes>"
      ]
     },
     "metadata": {
      "needs_background": "light"
     },
     "output_type": "display_data"
    },
    {
     "data": {
      "image/png": "[encoded data removed]",
      "text/plain": [
       "<Figure size 1008x288 with 1 Axes>"
      ]
     },
     "metadata": {
      "needs_background": "light"
     },
     "output_type": "display_data"
    },
    {
     "data": {
      "image/png": "[encoded data removed]",
      "text/plain": [
       "<Figure size 1008x288 with 1 Axes>"
      ]
     },
     "metadata": {
      "needs_background": "light"
     },
     "output_type": "display_data"
    },
    {
     "data": {
      "image/png": "[encoded data removed]",
      "text/plain": [
       "<Figure size 1008x288 with 1 Axes>"
      ]
     },
     "metadata": {
      "needs_background": "light"
     },
     "output_type": "display_data"
    },
    {
     "data": {
      "image/png": "[encoded data removed]",
      "text/plain": [
       "<Figure size 1008x288 with 1 Axes>"
      ]
     },
     "metadata": {
      "needs_background": "light"
     },
     "output_type": "display_data"
    }
   ],
   "source": [
    "# строим распределение score по признакам из номинативных колонок\n",
    "for col in catColumns:\n",
    "    get_boxplot(studmath, col)\n"
   ]
  },
  {
   "cell_type": "markdown",
   "metadata": {},
   "source": [
    "Колонки school, address, mjob, fjob, guardian, schoolsup, higher, internet кандидаты на значимость.\n",
    "Тем не менее посчитаем, для каких колонок распределение score по категориям является статистически значимым."
   ]
  },
  {
   "cell_type": "code",
   "execution_count": 14,
   "metadata": {},
   "outputs": [
    {
     "name": "stdout",
     "output_type": "stream",
     "text": [
      "Найдены статистически значимые различия для колонки address\n",
      "Найдены статистически значимые различия для колонки mjob\n",
      "Найдены статистически значимые различия для колонки higher\n",
      "Найдены статистически значимые различия для колонки romantic\n"
     ]
    }
   ],
   "source": [
    "for col in catColumns:\n",
    "    if get_stat_dif(studmath, col):\n",
    "        columnsToPreserve.append(col)"
   ]
  },
  {
   "cell_type": "code",
   "execution_count": 15,
   "metadata": {},
   "outputs": [
    {
     "name": "stdout",
     "output_type": "stream",
     "text": [
      "['score', 'medu', 'failures', 'goout', 'address', 'mjob', 'higher', 'romantic']\n"
     ]
    },
    {
     "data": {
      "text/html": [
       "<div>\n",
       "<style scoped>\n",
       "    .dataframe tbody tr th:only-of-type {\n",
       "        vertical-align: middle;\n",
       "    }\n",
       "\n",
       "    .dataframe tbody tr th {\n",
       "        vertical-align: top;\n",
       "    }\n",
       "\n",
       "    .dataframe thead th {\n",
       "        text-align: right;\n",
       "    }\n",
       "</style>\n",
       "<table border=\"1\" class=\"dataframe\">\n",
       "  <thead>\n",
       "    <tr style=\"text-align: right;\">\n",
       "      <th></th>\n",
       "      <th>score</th>\n",
       "      <th>medu</th>\n",
       "      <th>failures</th>\n",
       "      <th>goout</th>\n",
       "      <th>address</th>\n",
       "      <th>mjob</th>\n",
       "      <th>higher</th>\n",
       "      <th>romantic</th>\n",
       "    </tr>\n",
       "  </thead>\n",
       "  <tbody>\n",
       "    <tr>\n",
       "      <th>0</th>\n",
       "      <td>30.0</td>\n",
       "      <td>4.0</td>\n",
       "      <td>0.0</td>\n",
       "      <td>4.0</td>\n",
       "      <td>u</td>\n",
       "      <td>at_home</td>\n",
       "      <td>yes</td>\n",
       "      <td>no</td>\n",
       "    </tr>\n",
       "    <tr>\n",
       "      <th>1</th>\n",
       "      <td>30.0</td>\n",
       "      <td>1.0</td>\n",
       "      <td>0.0</td>\n",
       "      <td>3.0</td>\n",
       "      <td>u</td>\n",
       "      <td>at_home</td>\n",
       "      <td>yes</td>\n",
       "      <td>no</td>\n",
       "    </tr>\n",
       "    <tr>\n",
       "      <th>2</th>\n",
       "      <td>50.0</td>\n",
       "      <td>1.0</td>\n",
       "      <td>3.0</td>\n",
       "      <td>2.0</td>\n",
       "      <td>u</td>\n",
       "      <td>at_home</td>\n",
       "      <td>yes</td>\n",
       "      <td>None</td>\n",
       "    </tr>\n",
       "    <tr>\n",
       "      <th>3</th>\n",
       "      <td>75.0</td>\n",
       "      <td>4.0</td>\n",
       "      <td>0.0</td>\n",
       "      <td>2.0</td>\n",
       "      <td>u</td>\n",
       "      <td>health</td>\n",
       "      <td>yes</td>\n",
       "      <td>yes</td>\n",
       "    </tr>\n",
       "    <tr>\n",
       "      <th>4</th>\n",
       "      <td>50.0</td>\n",
       "      <td>3.0</td>\n",
       "      <td>0.0</td>\n",
       "      <td>2.0</td>\n",
       "      <td>u</td>\n",
       "      <td>other</td>\n",
       "      <td>yes</td>\n",
       "      <td>no</td>\n",
       "    </tr>\n",
       "    <tr>\n",
       "      <th>...</th>\n",
       "      <td>...</td>\n",
       "      <td>...</td>\n",
       "      <td>...</td>\n",
       "      <td>...</td>\n",
       "      <td>...</td>\n",
       "      <td>...</td>\n",
       "      <td>...</td>\n",
       "      <td>...</td>\n",
       "    </tr>\n",
       "    <tr>\n",
       "      <th>390</th>\n",
       "      <td>45.0</td>\n",
       "      <td>2.0</td>\n",
       "      <td>2.0</td>\n",
       "      <td>4.0</td>\n",
       "      <td>u</td>\n",
       "      <td>services</td>\n",
       "      <td>yes</td>\n",
       "      <td>no</td>\n",
       "    </tr>\n",
       "    <tr>\n",
       "      <th>391</th>\n",
       "      <td>80.0</td>\n",
       "      <td>3.0</td>\n",
       "      <td>0.0</td>\n",
       "      <td>5.0</td>\n",
       "      <td>u</td>\n",
       "      <td>services</td>\n",
       "      <td>yes</td>\n",
       "      <td>no</td>\n",
       "    </tr>\n",
       "    <tr>\n",
       "      <th>392</th>\n",
       "      <td>35.0</td>\n",
       "      <td>1.0</td>\n",
       "      <td>3.0</td>\n",
       "      <td>3.0</td>\n",
       "      <td>r</td>\n",
       "      <td>other</td>\n",
       "      <td>None</td>\n",
       "      <td>no</td>\n",
       "    </tr>\n",
       "    <tr>\n",
       "      <th>393</th>\n",
       "      <td>50.0</td>\n",
       "      <td>3.0</td>\n",
       "      <td>0.0</td>\n",
       "      <td>1.0</td>\n",
       "      <td>r</td>\n",
       "      <td>services</td>\n",
       "      <td>yes</td>\n",
       "      <td>no</td>\n",
       "    </tr>\n",
       "    <tr>\n",
       "      <th>394</th>\n",
       "      <td>45.0</td>\n",
       "      <td>1.0</td>\n",
       "      <td>0.0</td>\n",
       "      <td>3.0</td>\n",
       "      <td>u</td>\n",
       "      <td>other</td>\n",
       "      <td>yes</td>\n",
       "      <td>no</td>\n",
       "    </tr>\n",
       "  </tbody>\n",
       "</table>\n",
       "<p>389 rows × 8 columns</p>\n",
       "</div>"
      ],
      "text/plain": [
       "     score  medu  failures  goout address      mjob higher romantic\n",
       "0     30.0   4.0       0.0    4.0       u   at_home    yes       no\n",
       "1     30.0   1.0       0.0    3.0       u   at_home    yes       no\n",
       "2     50.0   1.0       3.0    2.0       u   at_home    yes     None\n",
       "3     75.0   4.0       0.0    2.0       u    health    yes      yes\n",
       "4     50.0   3.0       0.0    2.0       u     other    yes       no\n",
       "..     ...   ...       ...    ...     ...       ...    ...      ...\n",
       "390   45.0   2.0       2.0    4.0       u  services    yes       no\n",
       "391   80.0   3.0       0.0    5.0       u  services    yes       no\n",
       "392   35.0   1.0       3.0    3.0       r     other   None       no\n",
       "393   50.0   3.0       0.0    1.0       r  services    yes       no\n",
       "394   45.0   1.0       0.0    3.0       u     other    yes       no\n",
       "\n",
       "[389 rows x 8 columns]"
      ]
     },
     "metadata": {},
     "output_type": "display_data"
    }
   ],
   "source": [
    "# колонки, которые будут участвовать в дальнейшем построении модели\n",
    "print(columnsToPreserve)\n",
    "# оставляем в датафрейме только выбранные колонки\n",
    "studmath = studmath.loc[:, columnsToPreserve]\n",
    "display(studmath)"
   ]
  }
 ],
 "metadata": {
  "kernelspec": {
   "display_name": "Python 3",
   "language": "python",
   "name": "python3"
  },
  "language_info": {
   "codemirror_mode": {
    "name": "ipython",
    "version": 3
   },
   "file_extension": ".py",
   "mimetype": "text/x-python",
   "name": "python",
   "nbconvert_exporter": "python",
   "pygments_lexer": "ipython3",
   "version": "3.8.3"
  }
 },
 "nbformat": 4,
 "nbformat_minor": 4
}
