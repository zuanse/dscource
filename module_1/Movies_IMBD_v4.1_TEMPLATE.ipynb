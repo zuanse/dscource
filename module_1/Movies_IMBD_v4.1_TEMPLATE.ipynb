{
 "cells": [
  {
   "cell_type": "code",
   "execution_count": 438,
   "metadata": {
    "_cell_guid": "b1076dfc-b9ad-4769-8c92-a6c4dae69d19",
    "_uuid": "8f2839f25d086af736a60e9eeb907d3b93b6e0e5",
    "colab": {},
    "colab_type": "code",
    "id": "U2D2gTdJVp90"
   },
   "outputs": [],
   "source": [
    "import numpy as np\n",
    "import pandas as pd\n",
    "import seaborn as sns\n",
    "import matplotlib.pyplot as plt\n",
    "from collections import Counter"
   ]
  },
  {
   "cell_type": "code",
   "execution_count": null,
   "metadata": {},
   "outputs": [],
   "source": []
  },
  {
   "cell_type": "code",
   "execution_count": 439,
   "metadata": {
    "_cell_guid": "79c7e3d0-c299-4dcb-8224-4455121ee9b0",
    "_uuid": "d629ff2d2480ee46fbb7e2d37f6b5fab8052498a",
    "colab": {},
    "colab_type": "code",
    "id": "oyGfxL3eVp9-"
   },
   "outputs": [
    {
     "data": {
      "text/html": [
       "<div>\n",
       "<style scoped>\n",
       "    .dataframe tbody tr th:only-of-type {\n",
       "        vertical-align: middle;\n",
       "    }\n",
       "\n",
       "    .dataframe tbody tr th {\n",
       "        vertical-align: top;\n",
       "    }\n",
       "\n",
       "    .dataframe thead th {\n",
       "        text-align: right;\n",
       "    }\n",
       "</style>\n",
       "<table border=\"1\" class=\"dataframe\">\n",
       "  <thead>\n",
       "    <tr style=\"text-align: right;\">\n",
       "      <th></th>\n",
       "      <th>imdb_id</th>\n",
       "      <th>budget</th>\n",
       "      <th>revenue</th>\n",
       "      <th>original_title</th>\n",
       "      <th>cast</th>\n",
       "      <th>director</th>\n",
       "      <th>tagline</th>\n",
       "      <th>overview</th>\n",
       "      <th>runtime</th>\n",
       "      <th>genres</th>\n",
       "      <th>production_companies</th>\n",
       "      <th>release_date</th>\n",
       "      <th>vote_average</th>\n",
       "      <th>release_year</th>\n",
       "    </tr>\n",
       "  </thead>\n",
       "  <tbody>\n",
       "    <tr>\n",
       "      <th>1706</th>\n",
       "      <td>tt0463854</td>\n",
       "      <td>15000000</td>\n",
       "      <td>64238440</td>\n",
       "      <td>28 Weeks Later</td>\n",
       "      <td>Imogen Poots|Robert Carlyle|Rose Byrne|Jeremy ...</td>\n",
       "      <td>Juan Carlos Fresnadillo</td>\n",
       "      <td>When days turn to weeks... the horror returns.</td>\n",
       "      <td>In this chilling sequel to 28 Days Later, the ...</td>\n",
       "      <td>100</td>\n",
       "      <td>Horror|Thriller|Science Fiction</td>\n",
       "      <td>DNA Films|Figment Films|Sociedad General de Ci...</td>\n",
       "      <td>4/26/2007</td>\n",
       "      <td>6.3</td>\n",
       "      <td>2007</td>\n",
       "    </tr>\n",
       "    <tr>\n",
       "      <th>811</th>\n",
       "      <td>tt1650043</td>\n",
       "      <td>21000000</td>\n",
       "      <td>72417394</td>\n",
       "      <td>Diary of a Wimpy Kid: Rodrick Rules</td>\n",
       "      <td>Zachary Gordon|Devon Bostick|Rachael Harris|Ro...</td>\n",
       "      <td>David Bowers</td>\n",
       "      <td>Welcome to the next grade</td>\n",
       "      <td>Back in middle school after summer vacation, G...</td>\n",
       "      <td>99</td>\n",
       "      <td>Family|Comedy</td>\n",
       "      <td>Fox 2000 Pictures|Color Force</td>\n",
       "      <td>3/25/2011</td>\n",
       "      <td>6.4</td>\n",
       "      <td>2011</td>\n",
       "    </tr>\n",
       "    <tr>\n",
       "      <th>166</th>\n",
       "      <td>tt2883512</td>\n",
       "      <td>11000000</td>\n",
       "      <td>45967935</td>\n",
       "      <td>Chef</td>\n",
       "      <td>Jon Favreau|John Leguizamo|Bobby Cannavale|Emj...</td>\n",
       "      <td>Jon Favreau</td>\n",
       "      <td>Starting from scratch never tasted so good</td>\n",
       "      <td>A chef who loses his restaurant job starts up ...</td>\n",
       "      <td>115</td>\n",
       "      <td>Comedy</td>\n",
       "      <td>Open Road Films|Aldamisa Entertainment|Kilburn...</td>\n",
       "      <td>5/8/2014</td>\n",
       "      <td>7.2</td>\n",
       "      <td>2014</td>\n",
       "    </tr>\n",
       "    <tr>\n",
       "      <th>697</th>\n",
       "      <td>tt0416212</td>\n",
       "      <td>11000000</td>\n",
       "      <td>38105395</td>\n",
       "      <td>The Secret Life of Bees</td>\n",
       "      <td>Dakota Fanning|Queen Latifah|Jennifer Hudson|S...</td>\n",
       "      <td>Gina Prince-Bythewood</td>\n",
       "      <td>Bring Your Girlfriends, Sisters, Mothers and D...</td>\n",
       "      <td>Set in South Carolina in 1964, this is the tal...</td>\n",
       "      <td>114</td>\n",
       "      <td>Adventure|Drama</td>\n",
       "      <td>Fox Searchlight Pictures</td>\n",
       "      <td>9/17/2008</td>\n",
       "      <td>7.2</td>\n",
       "      <td>2008</td>\n",
       "    </tr>\n",
       "    <tr>\n",
       "      <th>1170</th>\n",
       "      <td>tt0297144</td>\n",
       "      <td>13000000</td>\n",
       "      <td>17040871</td>\n",
       "      <td>Ghosts of the Abyss</td>\n",
       "      <td>Bill Paxton|John Broadwater|James Cameron|Mike...</td>\n",
       "      <td>James Cameron</td>\n",
       "      <td>The legend no one can forget has become the gr...</td>\n",
       "      <td>Academy AwardÂ® winning director and master st...</td>\n",
       "      <td>92</td>\n",
       "      <td>Family|Documentary</td>\n",
       "      <td>Walt Disney Pictures|Walden Media|Earthship Pr...</td>\n",
       "      <td>4/10/2003</td>\n",
       "      <td>6.7</td>\n",
       "      <td>2003</td>\n",
       "    </tr>\n",
       "  </tbody>\n",
       "</table>\n",
       "</div>"
      ],
      "text/plain": [
       "        imdb_id    budget   revenue                       original_title  \\\n",
       "1706  tt0463854  15000000  64238440                       28 Weeks Later   \n",
       "811   tt1650043  21000000  72417394  Diary of a Wimpy Kid: Rodrick Rules   \n",
       "166   tt2883512  11000000  45967935                                 Chef   \n",
       "697   tt0416212  11000000  38105395              The Secret Life of Bees   \n",
       "1170  tt0297144  13000000  17040871                  Ghosts of the Abyss   \n",
       "\n",
       "                                                   cast  \\\n",
       "1706  Imogen Poots|Robert Carlyle|Rose Byrne|Jeremy ...   \n",
       "811   Zachary Gordon|Devon Bostick|Rachael Harris|Ro...   \n",
       "166   Jon Favreau|John Leguizamo|Bobby Cannavale|Emj...   \n",
       "697   Dakota Fanning|Queen Latifah|Jennifer Hudson|S...   \n",
       "1170  Bill Paxton|John Broadwater|James Cameron|Mike...   \n",
       "\n",
       "                     director  \\\n",
       "1706  Juan Carlos Fresnadillo   \n",
       "811              David Bowers   \n",
       "166               Jon Favreau   \n",
       "697     Gina Prince-Bythewood   \n",
       "1170            James Cameron   \n",
       "\n",
       "                                                tagline  \\\n",
       "1706     When days turn to weeks... the horror returns.   \n",
       "811                           Welcome to the next grade   \n",
       "166          Starting from scratch never tasted so good   \n",
       "697   Bring Your Girlfriends, Sisters, Mothers and D...   \n",
       "1170  The legend no one can forget has become the gr...   \n",
       "\n",
       "                                               overview  runtime  \\\n",
       "1706  In this chilling sequel to 28 Days Later, the ...      100   \n",
       "811   Back in middle school after summer vacation, G...       99   \n",
       "166   A chef who loses his restaurant job starts up ...      115   \n",
       "697   Set in South Carolina in 1964, this is the tal...      114   \n",
       "1170  Academy AwardÂ® winning director and master st...       92   \n",
       "\n",
       "                               genres  \\\n",
       "1706  Horror|Thriller|Science Fiction   \n",
       "811                     Family|Comedy   \n",
       "166                            Comedy   \n",
       "697                   Adventure|Drama   \n",
       "1170               Family|Documentary   \n",
       "\n",
       "                                   production_companies release_date  \\\n",
       "1706  DNA Films|Figment Films|Sociedad General de Ci...    4/26/2007   \n",
       "811                       Fox 2000 Pictures|Color Force    3/25/2011   \n",
       "166   Open Road Films|Aldamisa Entertainment|Kilburn...     5/8/2014   \n",
       "697                            Fox Searchlight Pictures    9/17/2008   \n",
       "1170  Walt Disney Pictures|Walden Media|Earthship Pr...    4/10/2003   \n",
       "\n",
       "      vote_average  release_year  \n",
       "1706           6.3          2007  \n",
       "811            6.4          2011  \n",
       "166            7.2          2014  \n",
       "697            7.2          2008  \n",
       "1170           6.7          2003  "
      ]
     },
     "execution_count": 439,
     "metadata": {},
     "output_type": "execute_result"
    }
   ],
   "source": [
    "data = pd.read_csv('movie_bd_v5.xls')\n",
    "data.sample(5)"
   ]
  },
  {
   "cell_type": "code",
   "execution_count": 440,
   "metadata": {
    "colab": {},
    "colab_type": "code",
    "id": "CoYUnagMVp-C"
   },
   "outputs": [
    {
     "data": {
      "text/html": [
       "<div>\n",
       "<style scoped>\n",
       "    .dataframe tbody tr th:only-of-type {\n",
       "        vertical-align: middle;\n",
       "    }\n",
       "\n",
       "    .dataframe tbody tr th {\n",
       "        vertical-align: top;\n",
       "    }\n",
       "\n",
       "    .dataframe thead th {\n",
       "        text-align: right;\n",
       "    }\n",
       "</style>\n",
       "<table border=\"1\" class=\"dataframe\">\n",
       "  <thead>\n",
       "    <tr style=\"text-align: right;\">\n",
       "      <th></th>\n",
       "      <th>budget</th>\n",
       "      <th>revenue</th>\n",
       "      <th>runtime</th>\n",
       "      <th>vote_average</th>\n",
       "      <th>release_year</th>\n",
       "    </tr>\n",
       "  </thead>\n",
       "  <tbody>\n",
       "    <tr>\n",
       "      <th>count</th>\n",
       "      <td>1.889000e+03</td>\n",
       "      <td>1.889000e+03</td>\n",
       "      <td>1889.000000</td>\n",
       "      <td>1889.000000</td>\n",
       "      <td>1889.000000</td>\n",
       "    </tr>\n",
       "    <tr>\n",
       "      <th>mean</th>\n",
       "      <td>5.431083e+07</td>\n",
       "      <td>1.553653e+08</td>\n",
       "      <td>109.658549</td>\n",
       "      <td>6.140762</td>\n",
       "      <td>2007.860773</td>\n",
       "    </tr>\n",
       "    <tr>\n",
       "      <th>std</th>\n",
       "      <td>4.858721e+07</td>\n",
       "      <td>2.146698e+08</td>\n",
       "      <td>18.017041</td>\n",
       "      <td>0.764763</td>\n",
       "      <td>4.468841</td>\n",
       "    </tr>\n",
       "    <tr>\n",
       "      <th>min</th>\n",
       "      <td>5.000000e+06</td>\n",
       "      <td>2.033165e+06</td>\n",
       "      <td>63.000000</td>\n",
       "      <td>3.300000</td>\n",
       "      <td>2000.000000</td>\n",
       "    </tr>\n",
       "    <tr>\n",
       "      <th>25%</th>\n",
       "      <td>2.000000e+07</td>\n",
       "      <td>3.456058e+07</td>\n",
       "      <td>97.000000</td>\n",
       "      <td>5.600000</td>\n",
       "      <td>2004.000000</td>\n",
       "    </tr>\n",
       "    <tr>\n",
       "      <th>50%</th>\n",
       "      <td>3.800000e+07</td>\n",
       "      <td>8.361541e+07</td>\n",
       "      <td>107.000000</td>\n",
       "      <td>6.100000</td>\n",
       "      <td>2008.000000</td>\n",
       "    </tr>\n",
       "    <tr>\n",
       "      <th>75%</th>\n",
       "      <td>7.200000e+07</td>\n",
       "      <td>1.782626e+08</td>\n",
       "      <td>120.000000</td>\n",
       "      <td>6.600000</td>\n",
       "      <td>2012.000000</td>\n",
       "    </tr>\n",
       "    <tr>\n",
       "      <th>max</th>\n",
       "      <td>3.800000e+08</td>\n",
       "      <td>2.781506e+09</td>\n",
       "      <td>214.000000</td>\n",
       "      <td>8.100000</td>\n",
       "      <td>2015.000000</td>\n",
       "    </tr>\n",
       "  </tbody>\n",
       "</table>\n",
       "</div>"
      ],
      "text/plain": [
       "             budget       revenue      runtime  vote_average  release_year\n",
       "count  1.889000e+03  1.889000e+03  1889.000000   1889.000000   1889.000000\n",
       "mean   5.431083e+07  1.553653e+08   109.658549      6.140762   2007.860773\n",
       "std    4.858721e+07  2.146698e+08    18.017041      0.764763      4.468841\n",
       "min    5.000000e+06  2.033165e+06    63.000000      3.300000   2000.000000\n",
       "25%    2.000000e+07  3.456058e+07    97.000000      5.600000   2004.000000\n",
       "50%    3.800000e+07  8.361541e+07   107.000000      6.100000   2008.000000\n",
       "75%    7.200000e+07  1.782626e+08   120.000000      6.600000   2012.000000\n",
       "max    3.800000e+08  2.781506e+09   214.000000      8.100000   2015.000000"
      ]
     },
     "execution_count": 440,
     "metadata": {},
     "output_type": "execute_result"
    }
   ],
   "source": [
    "data.describe()"
   ]
  },
  {
   "cell_type": "markdown",
   "metadata": {
    "colab_type": "text",
    "id": "DTIt7ezGVp-G"
   },
   "source": [
    "# Предобработка"
   ]
  },
  {
   "cell_type": "code",
   "execution_count": 441,
   "metadata": {
    "colab": {},
    "colab_type": "code",
    "id": "jNb40DwKVp-H"
   },
   "outputs": [],
   "source": [
    "answers = {} # создадим словарь для ответов\n",
    "\n",
    "# тут другие ваши предобработки колонок например:\n",
    "\n",
    "#the time given in the dataset is in string format.\n",
    "#So we need to change this in datetime format\n",
    "# ...\n",
    "data['profit'] = data.revenue - data.budget\n",
    "#display(data)\n",
    "\n",
    "\n",
    "# функция возвращает новый датасет, в котором каждой строке из source\n",
    "# соответсвует несколько строк, в которых содержатся елементы из разбития column по разделителю delimiter.\n",
    "# строка <1, \"a-b-c\", 8> будет разбита по второй колонке на 3 строки (delimeter = \"-\"):\n",
    "# 1, a, 8\n",
    "# 1, b, 8\n",
    "# 1, c, 8\n",
    "def splitDatasetRows(source, column, delimiter):\n",
    "    result = pd.DataFrame(columns=source.columns)\n",
    "    colIndex = list(source.columns).index(column)\n",
    "    for row in range(len(source)):\n",
    "        colValues = source.iat[row, colIndex].split(delimiter)\n",
    "        dataRow = source.iloc[row]\n",
    "        for cv in colValues:\n",
    "            #cv2 = cv.replace('\\'','')\n",
    "            dataRow = dataRow.copy()\n",
    "            dataRow.loc[column] = cv\n",
    "            result = result.append(dataRow)\n",
    "    #display(result)\n",
    "    return result\n",
    "\n",
    "#display(splitDatasetRows2(data, 'cast', '|'))"
   ]
  },
  {
   "cell_type": "markdown",
   "metadata": {
    "colab_type": "text",
    "id": "YxZaH-nPVp-L"
   },
   "source": [
    "# 1. У какого фильма из списка самый большой бюджет?"
   ]
  },
  {
   "cell_type": "markdown",
   "metadata": {
    "colab_type": "text",
    "id": "Nd-G5gX6Vp-M"
   },
   "source": [
    "Использовать варианты ответов в коде решения запрещено.    \n",
    "Вы думаете и в жизни у вас будут варианты ответов?)"
   ]
  },
  {
   "cell_type": "code",
   "execution_count": 442,
   "metadata": {
    "colab": {},
    "colab_type": "code",
    "id": "uVnXAY5RVp-O"
   },
   "outputs": [],
   "source": [
    "# в словарь вставляем номер вопроса и ваш ответ на него\n",
    "# Пример: \n",
    "answers['1'] = '2. Spider-Man 3 (tt0413300)'\n",
    "# запишите свой вариант ответа\n",
    "answers['1'] = 'Pirates of the Caribbean: On Stranger Tides (tt1298650)'\n",
    "# если ответили верно, можете добавить комментарий со значком \"+\""
   ]
  },
  {
   "cell_type": "code",
   "execution_count": 443,
   "metadata": {
    "colab": {},
    "colab_type": "code",
    "id": "dZwb3m28Vp-S"
   },
   "outputs": [
    {
     "name": "stdout",
     "output_type": "stream",
     "text": [
      "['Pirates of the Caribbean: On Stranger Tides']\n"
     ]
    }
   ],
   "source": [
    "# тут пишем ваш код для решения данного вопроса:\n",
    "d = data[data.budget == data.budget.max()]\n",
    "#display(d)\n",
    "answers['1'] = list(d.original_title)\n",
    "print(answers['1'])"
   ]
  },
  {
   "cell_type": "markdown",
   "metadata": {
    "colab_type": "text",
    "id": "K7L3nbRXVp-X"
   },
   "source": [
    "ВАРИАНТ 2"
   ]
  },
  {
   "cell_type": "code",
   "execution_count": 444,
   "metadata": {
    "colab": {},
    "colab_type": "code",
    "id": "OGaoQI7rVp-X"
   },
   "outputs": [],
   "source": [
    "# можно добавлять разные варианты решения"
   ]
  },
  {
   "cell_type": "markdown",
   "metadata": {
    "colab_type": "text",
    "id": "FNRbbI3vVp-c"
   },
   "source": [
    "# 2. Какой из фильмов самый длительный (в минутах)?"
   ]
  },
  {
   "cell_type": "code",
   "execution_count": 445,
   "metadata": {
    "colab": {},
    "colab_type": "code",
    "id": "vHAoEXNTVp-d"
   },
   "outputs": [],
   "source": [
    "# думаю логику работы с этим словарем вы уже поняли, \n",
    "# по этому не буду больше его дублировать\n",
    "answers['2'] = 'Gods and Generals (tt0279111)'"
   ]
  },
  {
   "cell_type": "code",
   "execution_count": 446,
   "metadata": {
    "colab": {},
    "colab_type": "code",
    "id": "ot-VX2XrVp-g"
   },
   "outputs": [
    {
     "name": "stdout",
     "output_type": "stream",
     "text": [
      "['Gods and Generals']\n"
     ]
    }
   ],
   "source": [
    "max_runtime = data[data.runtime == data.runtime.max()]\n",
    "#display(max_runtime)\n",
    "answers['2'] = list(max_runtime.original_title)\n",
    "print(answers['2'])"
   ]
  },
  {
   "cell_type": "markdown",
   "metadata": {
    "colab_type": "text",
    "id": "bapLlpW8Vp-k"
   },
   "source": [
    "# 3. Какой из фильмов самый короткий (в минутах)?\n",
    "\n",
    "\n",
    "\n"
   ]
  },
  {
   "cell_type": "code",
   "execution_count": 447,
   "metadata": {
    "colab": {},
    "colab_type": "code",
    "id": "YBxaSHuAVp-l"
   },
   "outputs": [
    {
     "name": "stdout",
     "output_type": "stream",
     "text": [
      "['Winnie the Pooh']\n"
     ]
    }
   ],
   "source": [
    "# получаем срез по фильмам с минимальной продолжительностью\n",
    "min_runtime = data[data.runtime == data.runtime.min()]\n",
    "#display(min_runtime)\n",
    "answers['3'] = list(min_runtime.original_title)\n",
    "print(answers['3'])"
   ]
  },
  {
   "cell_type": "markdown",
   "metadata": {
    "colab_type": "text",
    "id": "TfQbxbfNVp-p"
   },
   "source": [
    "# 4. Какова средняя длительность фильмов?\n"
   ]
  },
  {
   "cell_type": "code",
   "execution_count": 448,
   "metadata": {
    "colab": {},
    "colab_type": "code",
    "id": "5K6dKZYVVp-q"
   },
   "outputs": [
    {
     "data": {
      "text/plain": [
       "109.6585494970884"
      ]
     },
     "metadata": {},
     "output_type": "display_data"
    }
   ],
   "source": [
    "answers['4'] = data.runtime.mean()\n",
    "display(answers['4'])"
   ]
  },
  {
   "cell_type": "markdown",
   "metadata": {
    "colab_type": "text",
    "id": "r5TvbnT_Vp-u"
   },
   "source": [
    "# 5. Каково медианное значение длительности фильмов? "
   ]
  },
  {
   "cell_type": "code",
   "execution_count": 449,
   "metadata": {
    "colab": {},
    "colab_type": "code",
    "id": "iBROplKnVp-v"
   },
   "outputs": [
    {
     "data": {
      "text/plain": [
       "107.0"
      ]
     },
     "metadata": {},
     "output_type": "display_data"
    }
   ],
   "source": [
    "answers['5'] = data.runtime.median()\n",
    "display(answers['5'])"
   ]
  },
  {
   "cell_type": "markdown",
   "metadata": {
    "colab_type": "text",
    "id": "39P-deDSVp-y"
   },
   "source": [
    "# 6. Какой самый прибыльный фильм?\n",
    "#### Внимание! Здесь и далее под «прибылью» или «убытками» понимается разность между сборами и бюджетом фильма. (прибыль = сборы - бюджет) в нашем датасете это будет (profit = revenue - budget) "
   ]
  },
  {
   "cell_type": "code",
   "execution_count": 450,
   "metadata": {
    "colab": {},
    "colab_type": "code",
    "id": "UYZh4T9WVp-y"
   },
   "outputs": [],
   "source": [
    "# лучше код получения столбца profit вынести в Предобработку что в начале\n",
    "max_profit = data[data.profit == data.profit.max()]\n",
    "#display(max_profit)\n",
    "answers['6'] = list(max_profit.original_title)\n",
    "#print(answers['6'])"
   ]
  },
  {
   "cell_type": "markdown",
   "metadata": {
    "colab_type": "text",
    "id": "M99JmIX4Vp-2"
   },
   "source": [
    "# 7. Какой фильм самый убыточный? "
   ]
  },
  {
   "cell_type": "code",
   "execution_count": 451,
   "metadata": {
    "colab": {},
    "colab_type": "code",
    "id": "w-D2m4XPVp-3"
   },
   "outputs": [],
   "source": [
    "# выбираем фильм с минимальнымой прибылью\n",
    "min_profit = data[data.profit == data.profit.min()]\n",
    "#display(min_profit)\n",
    "answers['7'] = list(min_profit.original_title)\n",
    "#print(answers['7'])"
   ]
  },
  {
   "cell_type": "markdown",
   "metadata": {
    "colab_type": "text",
    "id": "wEOM5ERVVp-6"
   },
   "source": [
    "# 8. У скольких фильмов из датасета объем сборов оказался выше бюджета?"
   ]
  },
  {
   "cell_type": "code",
   "execution_count": 452,
   "metadata": {
    "colab": {},
    "colab_type": "code",
    "id": "y00_7HD6Vp-7"
   },
   "outputs": [
    {
     "name": "stdout",
     "output_type": "stream",
     "text": [
      "1478\n"
     ]
    }
   ],
   "source": [
    "p1 = data[data.revenue > data.budget]\n",
    "#p2 = data[data.profit > 0]\n",
    "#display(p1)\n",
    "#display(p2)\n",
    "answers['8'] = len(p1)\n",
    "print(answers['8'])"
   ]
  },
  {
   "cell_type": "markdown",
   "metadata": {
    "colab_type": "text",
    "id": "xhpspA9KVp_A"
   },
   "source": [
    "# 9. Какой фильм оказался самым кассовым в 2008 году?"
   ]
  },
  {
   "cell_type": "code",
   "execution_count": 453,
   "metadata": {
    "colab": {},
    "colab_type": "code",
    "id": "MoUyQr9RVp_B"
   },
   "outputs": [
    {
     "name": "stdout",
     "output_type": "stream",
     "text": [
      "['The Dark Knight']\n"
     ]
    }
   ],
   "source": [
    "# берем срез фидьмов по 2008 году\n",
    "data2008 = data[data.release_year == 2008]\n",
    "#display(data2008)\n",
    "# ищем в срезе фильмы с минимальными кассовыми сборами\n",
    "max_revenue2008 = data2008[data2008.revenue == data2008.revenue.max()]\n",
    "#display(max_revenue2008)\n",
    "answers['9'] = list(max_revenue2008.original_title)\n",
    "print(answers['9'])"
   ]
  },
  {
   "cell_type": "code",
   "execution_count": null,
   "metadata": {},
   "outputs": [],
   "source": []
  },
  {
   "cell_type": "markdown",
   "metadata": {
    "colab_type": "text",
    "id": "Zi4hDKidVp_F"
   },
   "source": [
    "# 10. Самый убыточный фильм за период с 2012 по 2014 г. (включительно)?\n"
   ]
  },
  {
   "cell_type": "code",
   "execution_count": 454,
   "metadata": {
    "colab": {},
    "colab_type": "code",
    "id": "XqyRmufJVp_F"
   },
   "outputs": [],
   "source": [
    "# берем срез фильмов из периода\n",
    "data1214 = data[(data.release_year >= 2012)& (data.release_year <= 2014)]\n",
    "#display(data1214)\n",
    "# получаем набор фильмов с минимальной прибылью\n",
    "min_profit1214 = data1214[data1214.profit == data1214.profit.min()]\n",
    "#display(min_profit1214)\n",
    "answers['10'] = list(min_profit1214.original_title)\n",
    "#print(answers['10'])"
   ]
  },
  {
   "cell_type": "markdown",
   "metadata": {
    "colab_type": "text",
    "id": "EA7Sa9dkVp_I"
   },
   "source": [
    "# 11. Какого жанра фильмов больше всего?"
   ]
  },
  {
   "cell_type": "code",
   "execution_count": 455,
   "metadata": {
    "colab": {},
    "colab_type": "code",
    "id": "zsJAwJ8QVp_J"
   },
   "outputs": [],
   "source": [
    "# эту задачу тоже можно решать разными подходами, попробуй реализовать разные варианты\n",
    "# если будешь добавлять функцию - выноси ее в предобработку что в начале"
   ]
  },
  {
   "cell_type": "markdown",
   "metadata": {
    "colab_type": "text",
    "id": "Ax6g2C8SVp_M"
   },
   "source": [
    "ВАРИАНТ 2"
   ]
  },
  {
   "cell_type": "code",
   "execution_count": 456,
   "metadata": {
    "colab": {},
    "colab_type": "code",
    "id": "otO3SbrSVp_N"
   },
   "outputs": [],
   "source": [
    "# создаем список жанров и считаем в нем, сколько раз он встречается в списке фильмов\n",
    "genres = Counter()\n",
    "for val in data.genres:\n",
    "    for g in val.split('|'):\n",
    "        genres[g]+=1\n",
    "#display(genres)\n",
    "#display(genres.most_common(1)[0][0])\n",
    "# берем жанр с самым дольшим количеством вхождений в списке фильмов\n",
    "answers['11'] = genres.most_common(1)[0][0]\n",
    "#print(answers['11'])"
   ]
  },
  {
   "cell_type": "markdown",
   "metadata": {
    "colab_type": "text",
    "id": "T9_bPWpkVp_Q"
   },
   "source": [
    "# 12. Фильмы какого жанра чаще всего становятся прибыльными? "
   ]
  },
  {
   "cell_type": "code",
   "execution_count": 457,
   "metadata": {
    "colab": {},
    "colab_type": "code",
    "id": "Tmt8MaK1Vp_R"
   },
   "outputs": [
    {
     "name": "stdout",
     "output_type": "stream",
     "text": [
      "Drama              560\n",
      "Comedy             551\n",
      "Thriller           446\n",
      "Action             444\n",
      "Adventure          337\n",
      "Romance            242\n",
      "Crime              231\n",
      "Family             226\n",
      "Science Fiction    195\n",
      "Fantasy            188\n",
      "Horror             150\n",
      "Animation          120\n",
      "Mystery            119\n",
      "Music               47\n",
      "History             46\n",
      "War                 41\n",
      "Western             12\n",
      "Documentary          7\n",
      "Foreign              0\n",
      "dtype: int64\n"
     ]
    }
   ],
   "source": [
    "genres_names = list(genres.keys())\n",
    "#print(genres_names)\n",
    "data1 = data\n",
    "for g in genres_names:\n",
    "    data1[g] = data1.genres.str.contains(g)\n",
    "#display(data1)\n",
    "data2 = data1[data1.profit > 0][genres_names].sum().sort_values(ascending=False)\n",
    "print(data2)\n",
    "answers['12'] = data2.index[0]"
   ]
  },
  {
   "cell_type": "markdown",
   "metadata": {
    "colab_type": "text",
    "id": "0F23bgsDVp_U"
   },
   "source": [
    "# 13. У какого режиссера самые большие суммарные кассовые сбооры?"
   ]
  },
  {
   "cell_type": "code",
   "execution_count": 458,
   "metadata": {
    "colab": {},
    "colab_type": "code",
    "id": "K6Z3J8ygVp_X"
   },
   "outputs": [
    {
     "name": "stdout",
     "output_type": "stream",
     "text": [
      "Peter Jackson\n"
     ]
    }
   ],
   "source": [
    "#data13 = splitDatasetRows(data,'director','|')\n",
    "data13_1 = data13.pivot_table(values =['revenue'], index = ['director'], aggfunc=sum)\n",
    "data13_1 = data13_1[data13_1.revenue == data13_1.revenue.max()].reset_index()\n",
    "answers['13'] = data13_1.iloc[0,0]\n",
    "print(answers['13'])"
   ]
  },
  {
   "cell_type": "markdown",
   "metadata": {
    "colab_type": "text",
    "id": "PsYC9FgRVp_a"
   },
   "source": [
    "# 14. Какой режисер снял больше всего фильмов в стиле Action?"
   ]
  },
  {
   "cell_type": "code",
   "execution_count": 459,
   "metadata": {
    "colab": {},
    "colab_type": "code",
    "id": "wd2M-wHeVp_b"
   },
   "outputs": [
    {
     "name": "stdout",
     "output_type": "stream",
     "text": [
      "Robert Rodriguez\n"
     ]
    }
   ],
   "source": [
    "# convert booleans to ints\n",
    "data14 = data13.Action.apply(lambda x: 1 if x else 0)\n",
    "# replace column\n",
    "data13.Action = data14\n",
    "# get statistics for each director\n",
    "data14_1 = data13.pivot_table(values =['Action'], index = ['director'], aggfunc=sum).sort_values(by=['Action'], ascending=False).reset_index()\n",
    "#display(data14_1)\n",
    "answers['14'] = data14_1.iloc[0, 0]\n",
    "print(answers['14'])"
   ]
  },
  {
   "cell_type": "markdown",
   "metadata": {
    "colab_type": "text",
    "id": "PQ0KciD7Vp_f"
   },
   "source": [
    "# 15. Фильмы с каким актером принесли самые высокие кассовые сборы в 2012 году? "
   ]
  },
  {
   "cell_type": "code",
   "execution_count": 460,
   "metadata": {
    "colab": {},
    "colab_type": "code",
    "id": "aga62oeKVp_g"
   },
   "outputs": [
    {
     "name": "stdout",
     "output_type": "stream",
     "text": [
      "Chris Hemsworth\n"
     ]
    }
   ],
   "source": [
    "# get only 2012 films and split records by stuff\n",
    "data15 = data[data.release_year == 2012]\n",
    "data15 = splitDatasetRows(data15,'cast','|')\n",
    "# caculate total revenue for each actor\n",
    "data15_1 = data15.pivot_table(values=['revenue'], index=['cast'], aggfunc=sum).reset_index()\n",
    "#display(data15_1)\n",
    "data15_2 = data15_1[data15_1.revenue == data15_1.revenue.max()]\n",
    "#display(data15_2)\n",
    "answers['15'] = data15_2.iloc[0, 0]\n",
    "print(answers['15'])"
   ]
  },
  {
   "cell_type": "markdown",
   "metadata": {
    "colab_type": "text",
    "id": "mWHyyL7QVp_j"
   },
   "source": [
    "# 16. Какой актер снялся в большем количестве высокобюджетных фильмов?"
   ]
  },
  {
   "cell_type": "code",
   "execution_count": 461,
   "metadata": {
    "colab": {},
    "colab_type": "code",
    "id": "qQtmHKTFVp_k"
   },
   "outputs": [
    {
     "name": "stdout",
     "output_type": "stream",
     "text": [
      "['Matt Damon']\n"
     ]
    }
   ],
   "source": [
    "# оставляем сначала только высокобюджетные фильмы\n",
    "data16 = data[data.budget > data.budget.median()]\n",
    "# разбиваем строки по артистам\n",
    "data16_1 = splitDatasetRows(data16,'cast','|')\n",
    "# групируем и считаем количество строк в каждой группе - получаем количество фильмов по актеру\n",
    "data16_2 = data16_1.groupby(by=['cast']).count()\n",
    "# выбираем актеров с максимальным количеством высокобюджетных фильмов\n",
    "data16_3 = data16_2[data16_2.imdb_id == data16_2.imdb_id.max()]\n",
    "#display(data16_3)\n",
    "answers['16'] = list(data16_3.index)\n",
    "print(answers['16'])"
   ]
  },
  {
   "cell_type": "markdown",
   "metadata": {
    "colab_type": "text",
    "id": "NIh6AaW5Vp_n"
   },
   "source": [
    "# 17. В фильмах какого жанра больше всего снимался Nicolas Cage? "
   ]
  },
  {
   "cell_type": "code",
   "execution_count": 462,
   "metadata": {
    "colab": {},
    "colab_type": "code",
    "id": "H74SJDIBVp_n"
   },
   "outputs": [],
   "source": [
    "# получаем фильмографию актера\n",
    "#data17 = splitDatasetRows(data,'cast','|')\n",
    "data17 = data17[data17.cast.str.contains('Nicolas Cage')]\n",
    "#display(data17)\n",
    "# булевы значения в бинарные и аггрегируем данные\n",
    "r = dict(zip(list(genres),map(lambda x: (lambda y: 1 if y else 0), list(genres))))\n",
    "data17_1 = data17.aggregate(func=r)\n",
    "data17_2 = data17_1.aggregate('sum').sort_values(ascending=False)\n",
    "#display(data17_2)\n",
    "# в отсортированных по убыванию данных первый ключ - ответ\n",
    "answers['17'] = data17_2.index[0]\n",
    "#print(answers['17'])"
   ]
  },
  {
   "cell_type": "markdown",
   "metadata": {
    "colab_type": "text",
    "id": "RqOmPRfWVp_q"
   },
   "source": [
    "# 18. Самый убыточный фильм от Paramount Pictures"
   ]
  },
  {
   "cell_type": "code",
   "execution_count": 463,
   "metadata": {
    "colab": {},
    "colab_type": "code",
    "id": "9E_B0Y96Vp_r"
   },
   "outputs": [
    {
     "data": {
      "text/plain": [
       "['K-19: The Widowmaker']"
      ]
     },
     "metadata": {},
     "output_type": "display_data"
    }
   ],
   "source": [
    "# разделяем данные по компаниям\n",
    "#data18 = splitDatasetRows(data,'production_companies','|')\n",
    "# оставляем только от paramount\n",
    "data18_1 = data[data.production_companies.str.contains('Paramount Pictures')]\n",
    "# оставляем только фильмы с минимальным доходом\n",
    "data18_2 = data18_1[data18_1.profit == data18_1.profit.min()]\n",
    "#display(data18_2)\n",
    "answers['18'] = list(data18_2.original_title)\n",
    "display(answers['18'])"
   ]
  },
  {
   "cell_type": "markdown",
   "metadata": {
    "colab_type": "text",
    "id": "vS8Ur6ddVp_u"
   },
   "source": [
    "# 19. Какой год стал самым успешным по суммарным кассовым сборам?"
   ]
  },
  {
   "cell_type": "code",
   "execution_count": 464,
   "metadata": {
    "colab": {},
    "colab_type": "code",
    "id": "Dnbt4GdIVp_v"
   },
   "outputs": [],
   "source": [
    "# группируем по годам и суммируем выручку\n",
    "data19 = data.groupby(by='release_year').aggregate({'revenue': 'sum'})"
   ]
  },
  {
   "cell_type": "code",
   "execution_count": 465,
   "metadata": {},
   "outputs": [],
   "source": [
    "#display(data19.sort_values(by=['revenue'], ascending=False))\n",
    "# забираем фмльмы с самой большой прибылью\n",
    "answers['19'] = list(data19[data19.revenue == data19.revenue.max()].index)\n",
    "#print(answers['19'])"
   ]
  },
  {
   "cell_type": "markdown",
   "metadata": {
    "colab_type": "text",
    "id": "JAzJh4QAVp_z"
   },
   "source": [
    "# 20. Какой самый прибыльный год для студии Warner Bros?"
   ]
  },
  {
   "cell_type": "code",
   "execution_count": null,
   "metadata": {
    "colab": {},
    "colab_type": "code",
    "id": "wgVu02DEVp_0"
   },
   "outputs": [],
   "source": [
    "\n"
   ]
  },
  {
   "cell_type": "code",
   "execution_count": 466,
   "metadata": {},
   "outputs": [],
   "source": [
    "# берем фильмы, созданные при участии Warner Bros\n",
    "data20_1 = data[data.production_companies.str.contains('Warner Bros')]\n",
    "# группируем по годам и суммируем прибыль, сортируем по убыванию прибыли\n",
    "data20_2 = data20_1.groupby(by='release_year').sum().sort_values(by=['profit'], ascending=False)\n",
    "# display(data20_2)\n",
    "# display(list(data20_2[data20_2.revenue == data20_2.revenue.max()].index))\n",
    "answers['20'] = list(data20_2[data20_2.revenue == data20_2.revenue.max()].index)"
   ]
  },
  {
   "cell_type": "markdown",
   "metadata": {
    "colab_type": "text",
    "id": "8Im1S2HRVp_4"
   },
   "source": [
    "# 21. В каком месяце за все годы суммарно вышло больше всего фильмов?"
   ]
  },
  {
   "cell_type": "code",
   "execution_count": 467,
   "metadata": {
    "colab": {},
    "colab_type": "code",
    "id": "lev6TH7gVp_4"
   },
   "outputs": [],
   "source": [
    "# по каждому фильму получаем месяц его выхода\n",
    "months = data.release_date.apply(lambda d: d.partition('/')[0])\n",
    "# считаем количество фильмов для каждого месяца и сортируем \n",
    "filmPerMonth = months.value_counts().sort_values(ascending=False)\n",
    "#display(filmPerMonth)\n",
    "answers['21'] = filmPerMonth.index[0]\n",
    "#print(answers['21'])"
   ]
  },
  {
   "cell_type": "markdown",
   "metadata": {
    "colab_type": "text",
    "id": "uAJsZ_NeVp_7"
   },
   "source": [
    "# 22. Сколько суммарно вышло фильмов летом? (за июнь, июль, август)"
   ]
  },
  {
   "cell_type": "code",
   "execution_count": 468,
   "metadata": {
    "colab": {},
    "colab_type": "code",
    "id": "Aa-hEREoVp_8"
   },
   "outputs": [],
   "source": [
    "#  на основе предыдущих данных считаем летние фильмы\n",
    "answers['22'] = filmPerMonth['6']+filmPerMonth['7']+filmPerMonth['8']\n",
    "#print(answers['22'])"
   ]
  },
  {
   "cell_type": "markdown",
   "metadata": {
    "colab_type": "text",
    "id": "G94ppOY1VqAA"
   },
   "source": [
    "# 23. Для какого режиссера зима – самое продуктивное время года? "
   ]
  },
  {
   "cell_type": "code",
   "execution_count": 469,
   "metadata": {
    "colab": {},
    "colab_type": "code",
    "id": "RhNTsamuVqAB"
   },
   "outputs": [],
   "source": [
    "# бьем фильмы по режиссерам\n",
    "data23 = splitDatasetRows(data,'director','|')\n",
    "# добавляем колонку с флагом \"зимний фильм\"\n",
    "data23['winter'] = data23.release_date.apply(lambda d: 1 if d.partition('/')[0] in ['1','2','12'] else 0 )\n",
    "# группируем по режиссеру и считаем для каждого количество фильмов с признаком \"зимний фильм\"\n",
    "data23_1 = data23.groupby(by='director').aggregate({'winter': 'sum'}).sort_values(by=['winter'], ascending = False)\n",
    "#display(data23_1)\n",
    "answers['23'] = data23_1.index[0]\n",
    "#months23 = data23.release_date.apply(lambda d: d.partition('/')[0])\n",
    "#months23\n",
    "#print(answers['23'])"
   ]
  },
  {
   "cell_type": "markdown",
   "metadata": {
    "colab_type": "text",
    "id": "RBo0JVjVVqAF"
   },
   "source": [
    "# 24. Какая студия дает самые длинные названия своим фильмам по количеству символов?"
   ]
  },
  {
   "cell_type": "code",
   "execution_count": 470,
   "metadata": {
    "colab": {},
    "colab_type": "code",
    "id": "QRGS8L0iVqAG"
   },
   "outputs": [],
   "source": [
    "data24 = data\n",
    "# добавляем колонку с длиной названия\n",
    "data24['titlelen'] = data24.original_title.apply(lambda x: len(x))\n",
    "# выбираем фильмы с максимальным названием\n",
    "data24_1 = data24[data24.titlelen == data24.titlelen.max()]\n",
    "#display(data24_1)\n",
    "answers['24'] = data24_1.production_companies.iloc[0].split('|')\n",
    "#print(answers['24'])"
   ]
  },
  {
   "cell_type": "markdown",
   "metadata": {
    "colab_type": "text",
    "id": "9G0hbvR7VqAK"
   },
   "source": [
    "# 25. Описание фильмов какой студии в среднем самые длинные по количеству слов?"
   ]
  },
  {
   "cell_type": "code",
   "execution_count": 471,
   "metadata": {
    "colab": {},
    "colab_type": "code",
    "id": "Ge2GsLNxVqAK"
   },
   "outputs": [
    {
     "name": "stdout",
     "output_type": "stream",
     "text": [
      "Midnight Picture Show\n"
     ]
    }
   ],
   "source": [
    "#data25 = splitDatasetRows(data,'production_companies','|')\n",
    "#data25['overview_words'] = data25.overview.str.count('(([A-Z]|[a-z])+(-)*([A-Z]|[a-z])*)|([0-9]+.*[0-9]*)')\n",
    "data25_1 = data25.groupby(by=['production_companies']).mean().sort_values(by=['overview_words'],ascending=False)\n",
    "print(data25_1.index[0])\n",
    "answers['25'] = data25_1.index[0]"
   ]
  },
  {
   "cell_type": "markdown",
   "metadata": {
    "colab_type": "text",
    "id": "FJ1AFt90VqAP"
   },
   "source": [
    "# 26. Какие фильмы входят в 1 процент лучших по рейтингу? \n",
    "по vote_average"
   ]
  },
  {
   "cell_type": "code",
   "execution_count": 472,
   "metadata": {
    "colab": {},
    "colab_type": "code",
    "id": "8qmJVq4CVqAQ"
   },
   "outputs": [
    {
     "data": {
      "text/plain": [
       "['Inside Out',\n",
       " 'Spotlight',\n",
       " 'Room',\n",
       " 'Interstellar',\n",
       " 'Guardians of the Galaxy',\n",
       " 'Big Hero 6',\n",
       " 'The Imitation Game',\n",
       " 'Gone Girl',\n",
       " 'The Grand Budapest Hotel',\n",
       " 'The Theory of Everything',\n",
       " 'The Fault in Our Stars',\n",
       " 'Mr. Nobody',\n",
       " '3 Idiots',\n",
       " 'Inception',\n",
       " 'The Lord of the Rings: The Fellowship of the Ring',\n",
       " 'The Dark Knight',\n",
       " 'The Lord of the Rings: The Two Towers',\n",
       " 'The Pianist',\n",
       " 'The Lord of the Rings: The Return of the King',\n",
       " 'The Wolf of Wall Street',\n",
       " 'Her',\n",
       " '12 Years a Slave',\n",
       " 'Prisoners',\n",
       " 'Dallas Buyers Club',\n",
       " 'The Prestige',\n",
       " 'Eternal Sunshine of the Spotless Mind',\n",
       " 'There Will Be Blood',\n",
       " 'Memento']"
      ]
     },
     "metadata": {},
     "output_type": "display_data"
    }
   ],
   "source": [
    "data26_Q = data.vote_average.quantile(0.99, interpolation = 'lower')\n",
    "data26_1 = data[data.vote_average >= data26_Q]\n",
    "display(list(data26_1.original_title))\n",
    "answers['26'] = list(data26_1.original_title)"
   ]
  },
  {
   "cell_type": "markdown",
   "metadata": {
    "colab_type": "text",
    "id": "MdXsUXbCVqAV"
   },
   "source": [
    "# 27. Какие актеры чаще всего снимаются в одном фильме вместе?\n"
   ]
  },
  {
   "cell_type": "markdown",
   "metadata": {
    "colab_type": "text",
    "id": "4ymnxEVoVqAW"
   },
   "source": [
    "ВАРИАНТ 2"
   ]
  },
  {
   "cell_type": "code",
   "execution_count": 473,
   "metadata": {},
   "outputs": [],
   "source": [
    "#display(data.columns)\n",
    "#data27=data.filter(['original_title','cast'], axis=1)\n",
    "#data27_1=splitDatasetRows(data27,'cast','|')\n",
    "#display(data27_1)\n",
    "#actors = data27_1.cast.unique()\n",
    "#pairs = dict()\n",
    "#for F in range(0,len(actors)-1):\n",
    "#    actorF = actors[F]\n",
    "#    for S in range(F,len(actors)):\n",
    "#        actorS = actors[S]\n",
    "#        pairs[(actorF, actorS)] = len(data[data.cast.str.contains(actorF) & data.cast.str.contains(actorS)])\n",
    "\n",
    "#print(pairs)"
   ]
  },
  {
   "cell_type": "code",
   "execution_count": 474,
   "metadata": {},
   "outputs": [
    {
     "name": "stdout",
     "output_type": "stream",
     "text": [
      "[('Daniel Radcliffe', 'Emma Watson'), ('Daniel Radcliffe', 'Rupert Grint'), ('Emma Watson', 'Rupert Grint')]\n"
     ]
    }
   ],
   "source": [
    "cnt = Counter()\n",
    "for r in range(len(data)):\n",
    "    filmActors = data.iloc[r].cast.split('|')\n",
    "    filmActors.sort()\n",
    "    for one in range(len(filmActors)-1):\n",
    "        actorOne = filmActors[one]\n",
    "        for two in range(one+1, len(filmActors)):\n",
    "            actorTwo = filmActors[two]\n",
    "            cnt[(actorOne, actorTwo)] +=1\n",
    "            \n",
    "cnt2 = dict(cnt)\n",
    "df = pd.DataFrame(cnt2.values(), index = cnt.keys(), columns=['coworks'])\n",
    "#df.sort_values(by=['coworks'], ascending=False)\n",
    "answers['27'] = list(df[df.coworks == df.coworks.max()].index)\n",
    "print(answers['27'])"
   ]
  },
  {
   "cell_type": "markdown",
   "metadata": {
    "colab_type": "text",
    "id": "U0nONFnGVqAX"
   },
   "source": [
    "# Submission"
   ]
  },
  {
   "cell_type": "code",
   "execution_count": 475,
   "metadata": {
    "colab": {},
    "colab_type": "code",
    "id": "IfcaRO9-VqAX",
    "outputId": "0f132912-32bb-4196-c98c-abfbc4ad5a5f"
   },
   "outputs": [
    {
     "data": {
      "text/plain": [
       "{'1': ['Pirates of the Caribbean: On Stranger Tides'],\n",
       " '2': ['Gods and Generals'],\n",
       " '3': ['Winnie the Pooh'],\n",
       " '4': 109.6585494970884,\n",
       " '5': 107.0,\n",
       " '6': ['Avatar'],\n",
       " '7': ['The Lone Ranger'],\n",
       " '8': 1478,\n",
       " '9': ['The Dark Knight'],\n",
       " '10': ['The Lone Ranger'],\n",
       " '11': 'Drama',\n",
       " '12': 'Drama',\n",
       " '13': 'Peter Jackson',\n",
       " '14': 'Robert Rodriguez',\n",
       " '15': 'Chris Hemsworth',\n",
       " '16': ['Matt Damon'],\n",
       " '17': 'Action',\n",
       " '18': ['K-19: The Widowmaker'],\n",
       " '19': [2015],\n",
       " '20': [2014],\n",
       " '21': '9',\n",
       " '22': 450,\n",
       " '23': 'Peter Jackson',\n",
       " '24': ['Twentieth Century Fox Film Corporation', 'Four By Two Productions'],\n",
       " '25': 'Midnight Picture Show',\n",
       " '26': ['Inside Out',\n",
       "  'Spotlight',\n",
       "  'Room',\n",
       "  'Interstellar',\n",
       "  'Guardians of the Galaxy',\n",
       "  'Big Hero 6',\n",
       "  'The Imitation Game',\n",
       "  'Gone Girl',\n",
       "  'The Grand Budapest Hotel',\n",
       "  'The Theory of Everything',\n",
       "  'The Fault in Our Stars',\n",
       "  'Mr. Nobody',\n",
       "  '3 Idiots',\n",
       "  'Inception',\n",
       "  'The Lord of the Rings: The Fellowship of the Ring',\n",
       "  'The Dark Knight',\n",
       "  'The Lord of the Rings: The Two Towers',\n",
       "  'The Pianist',\n",
       "  'The Lord of the Rings: The Return of the King',\n",
       "  'The Wolf of Wall Street',\n",
       "  'Her',\n",
       "  '12 Years a Slave',\n",
       "  'Prisoners',\n",
       "  'Dallas Buyers Club',\n",
       "  'The Prestige',\n",
       "  'Eternal Sunshine of the Spotless Mind',\n",
       "  'There Will Be Blood',\n",
       "  'Memento'],\n",
       " '27': [('Daniel Radcliffe', 'Emma Watson'),\n",
       "  ('Daniel Radcliffe', 'Rupert Grint'),\n",
       "  ('Emma Watson', 'Rupert Grint')]}"
      ]
     },
     "execution_count": 475,
     "metadata": {},
     "output_type": "execute_result"
    }
   ],
   "source": [
    "# в конце можно посмотреть свои ответы к каждому вопросу\n",
    "answers"
   ]
  },
  {
   "cell_type": "code",
   "execution_count": 476,
   "metadata": {
    "colab": {},
    "colab_type": "code",
    "id": "SiRmHPl8VqAd"
   },
   "outputs": [
    {
     "data": {
      "text/plain": [
       "27"
      ]
     },
     "execution_count": 476,
     "metadata": {},
     "output_type": "execute_result"
    }
   ],
   "source": [
    "# и убедиться что ни чего не пропустил)\n",
    "len(answers)"
   ]
  },
  {
   "cell_type": "code",
   "execution_count": null,
   "metadata": {
    "colab": {},
    "colab_type": "code",
    "id": "uCfuTkRbVqAg"
   },
   "outputs": [],
   "source": []
  },
  {
   "cell_type": "code",
   "execution_count": null,
   "metadata": {
    "colab": {},
    "colab_type": "code",
    "id": "Vwx3NrkSVqAl"
   },
   "outputs": [],
   "source": []
  }
 ],
 "metadata": {
  "colab": {
   "name": "Copy of [SF-DST] Movies IMBD v4.1 TEMPLATE.ipynb",
   "provenance": []
  },
  "kernelspec": {
   "display_name": "Python 3",
   "language": "python",
   "name": "python3"
  },
  "language_info": {
   "codemirror_mode": {
    "name": "ipython",
    "version": 3
   },
   "file_extension": ".py",
   "mimetype": "text/x-python",
   "name": "python",
   "nbconvert_exporter": "python",
   "pygments_lexer": "ipython3",
   "version": "3.8.3"
  }
 },
 "nbformat": 4,
 "nbformat_minor": 1
}
